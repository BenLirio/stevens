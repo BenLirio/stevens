{
 "cells": [
  {
   "cell_type": "code",
   "execution_count": 1,
   "metadata": {},
   "outputs": [],
   "source": [
    "using CSV\n",
    "using DataFrames"
   ]
  },
  {
   "cell_type": "code",
   "execution_count": 4,
   "metadata": {},
   "outputs": [
    {
     "data": {
      "text/html": [
       "<table class=\"data-frame\"><thead><tr><th></th><th>id</th><th>keyword</th><th>location</th><th>text</th></tr><tr><th></th><th>Int64</th><th>String?</th><th>String?</th><th>String</th></tr></thead><tbody><p>7,613 rows × 5 columns (omitted printing of 1 columns)</p><tr><th>1</th><td>1</td><td><em>missing</em></td><td><em>missing</em></td><td>Our Deeds are the Reason of this #earthquake May ALLAH Forgive us all</td></tr><tr><th>2</th><td>4</td><td><em>missing</em></td><td><em>missing</em></td><td>Forest fire near La Ronge Sask. Canada</td></tr><tr><th>3</th><td>5</td><td><em>missing</em></td><td><em>missing</em></td><td>All residents asked to 'shelter in place' are being notified by officers. No other evacuation or shelter in place orders are expected</td></tr><tr><th>4</th><td>6</td><td><em>missing</em></td><td><em>missing</em></td><td>13,000 people receive #wildfires evacuation orders in California </td></tr><tr><th>5</th><td>7</td><td><em>missing</em></td><td><em>missing</em></td><td>Just got sent this photo from Ruby #Alaska as smoke from #wildfires pours into a school </td></tr><tr><th>6</th><td>8</td><td><em>missing</em></td><td><em>missing</em></td><td>#RockyFire Update =&gt; California Hwy. 20 closed in both directions due to Lake County fire - #CAfire #wildfires</td></tr><tr><th>7</th><td>10</td><td><em>missing</em></td><td><em>missing</em></td><td>#flood #disaster Heavy rain causes flash flooding of streets in Manitou, Colorado Springs areas</td></tr><tr><th>8</th><td>13</td><td><em>missing</em></td><td><em>missing</em></td><td>I'm on top of the hill and I can see a fire in the woods...</td></tr><tr><th>9</th><td>14</td><td><em>missing</em></td><td><em>missing</em></td><td>There's an emergency evacuation happening now in the building across the street</td></tr><tr><th>10</th><td>15</td><td><em>missing</em></td><td><em>missing</em></td><td>I'm afraid that the tornado is coming to our area...</td></tr><tr><th>11</th><td>16</td><td><em>missing</em></td><td><em>missing</em></td><td>Three people died from the heat wave so far</td></tr><tr><th>12</th><td>17</td><td><em>missing</em></td><td><em>missing</em></td><td>Haha South Tampa is getting flooded hah- WAIT A SECOND I LIVE IN SOUTH TAMPA WHAT AM I GONNA DO WHAT AM I GONNA DO FVCK #flooding</td></tr><tr><th>13</th><td>18</td><td><em>missing</em></td><td><em>missing</em></td><td>#raining #flooding #Florida #TampaBay #Tampa 18 or 19 days. I've lost count </td></tr><tr><th>14</th><td>19</td><td><em>missing</em></td><td><em>missing</em></td><td>#Flood in Bago Myanmar #We arrived Bago</td></tr><tr><th>15</th><td>20</td><td><em>missing</em></td><td><em>missing</em></td><td>Damage to school bus on 80 in multi car crash #BREAKING </td></tr><tr><th>16</th><td>23</td><td><em>missing</em></td><td><em>missing</em></td><td>What's up man?</td></tr><tr><th>17</th><td>24</td><td><em>missing</em></td><td><em>missing</em></td><td>I love fruits</td></tr><tr><th>18</th><td>25</td><td><em>missing</em></td><td><em>missing</em></td><td>Summer is lovely</td></tr><tr><th>19</th><td>26</td><td><em>missing</em></td><td><em>missing</em></td><td>My car is so fast</td></tr><tr><th>20</th><td>28</td><td><em>missing</em></td><td><em>missing</em></td><td>What a goooooooaaaaaal!!!!!!</td></tr><tr><th>21</th><td>31</td><td><em>missing</em></td><td><em>missing</em></td><td>this is ridiculous....</td></tr><tr><th>22</th><td>32</td><td><em>missing</em></td><td><em>missing</em></td><td>London is cool ;)</td></tr><tr><th>23</th><td>33</td><td><em>missing</em></td><td><em>missing</em></td><td>Love skiing</td></tr><tr><th>24</th><td>34</td><td><em>missing</em></td><td><em>missing</em></td><td>What a wonderful day!</td></tr><tr><th>25</th><td>36</td><td><em>missing</em></td><td><em>missing</em></td><td>LOOOOOOL</td></tr><tr><th>26</th><td>37</td><td><em>missing</em></td><td><em>missing</em></td><td>No way...I can't eat that shit</td></tr><tr><th>27</th><td>38</td><td><em>missing</em></td><td><em>missing</em></td><td>Was in NYC last week!</td></tr><tr><th>28</th><td>39</td><td><em>missing</em></td><td><em>missing</em></td><td>Love my girlfriend</td></tr><tr><th>29</th><td>40</td><td><em>missing</em></td><td><em>missing</em></td><td>Cooool :)</td></tr><tr><th>30</th><td>41</td><td><em>missing</em></td><td><em>missing</em></td><td>Do you like pasta?</td></tr><tr><th>&vellip;</th><td>&vellip;</td><td>&vellip;</td><td>&vellip;</td><td>&vellip;</td></tr></tbody></table>"
      ],
      "text/latex": [
       "\\begin{tabular}{r|ccccc}\n",
       "\t& id & keyword & location & text & \\\\\n",
       "\t\\hline\n",
       "\t& Int64 & String? & String? & String & \\\\\n",
       "\t\\hline\n",
       "\t1 & 1 & \\emph{missing} & \\emph{missing} & Our Deeds are the Reason of this \\#earthquake May ALLAH Forgive us all & $\\dots$ \\\\\n",
       "\t2 & 4 & \\emph{missing} & \\emph{missing} & Forest fire near La Ronge Sask. Canada & $\\dots$ \\\\\n",
       "\t3 & 5 & \\emph{missing} & \\emph{missing} & All residents asked to 'shelter in place' are being notified by officers. No other evacuation or shelter in place orders are expected & $\\dots$ \\\\\n",
       "\t4 & 6 & \\emph{missing} & \\emph{missing} & 13,000 people receive \\#wildfires evacuation orders in California  & $\\dots$ \\\\\n",
       "\t5 & 7 & \\emph{missing} & \\emph{missing} & Just got sent this photo from Ruby \\#Alaska as smoke from \\#wildfires pours into a school  & $\\dots$ \\\\\n",
       "\t6 & 8 & \\emph{missing} & \\emph{missing} & \\#RockyFire Update => California Hwy. 20 closed in both directions due to Lake County fire - \\#CAfire \\#wildfires & $\\dots$ \\\\\n",
       "\t7 & 10 & \\emph{missing} & \\emph{missing} & \\#flood \\#disaster Heavy rain causes flash flooding of streets in Manitou, Colorado Springs areas & $\\dots$ \\\\\n",
       "\t8 & 13 & \\emph{missing} & \\emph{missing} & I'm on top of the hill and I can see a fire in the woods... & $\\dots$ \\\\\n",
       "\t9 & 14 & \\emph{missing} & \\emph{missing} & There's an emergency evacuation happening now in the building across the street & $\\dots$ \\\\\n",
       "\t10 & 15 & \\emph{missing} & \\emph{missing} & I'm afraid that the tornado is coming to our area... & $\\dots$ \\\\\n",
       "\t11 & 16 & \\emph{missing} & \\emph{missing} & Three people died from the heat wave so far & $\\dots$ \\\\\n",
       "\t12 & 17 & \\emph{missing} & \\emph{missing} & Haha South Tampa is getting flooded hah- WAIT A SECOND I LIVE IN SOUTH TAMPA WHAT AM I GONNA DO WHAT AM I GONNA DO FVCK \\#flooding & $\\dots$ \\\\\n",
       "\t13 & 18 & \\emph{missing} & \\emph{missing} & \\#raining \\#flooding \\#Florida \\#TampaBay \\#Tampa 18 or 19 days. I've lost count  & $\\dots$ \\\\\n",
       "\t14 & 19 & \\emph{missing} & \\emph{missing} & \\#Flood in Bago Myanmar \\#We arrived Bago & $\\dots$ \\\\\n",
       "\t15 & 20 & \\emph{missing} & \\emph{missing} & Damage to school bus on 80 in multi car crash \\#BREAKING  & $\\dots$ \\\\\n",
       "\t16 & 23 & \\emph{missing} & \\emph{missing} & What's up man? & $\\dots$ \\\\\n",
       "\t17 & 24 & \\emph{missing} & \\emph{missing} & I love fruits & $\\dots$ \\\\\n",
       "\t18 & 25 & \\emph{missing} & \\emph{missing} & Summer is lovely & $\\dots$ \\\\\n",
       "\t19 & 26 & \\emph{missing} & \\emph{missing} & My car is so fast & $\\dots$ \\\\\n",
       "\t20 & 28 & \\emph{missing} & \\emph{missing} & What a goooooooaaaaaal!!!!!! & $\\dots$ \\\\\n",
       "\t21 & 31 & \\emph{missing} & \\emph{missing} & this is ridiculous.... & $\\dots$ \\\\\n",
       "\t22 & 32 & \\emph{missing} & \\emph{missing} & London is cool ;) & $\\dots$ \\\\\n",
       "\t23 & 33 & \\emph{missing} & \\emph{missing} & Love skiing & $\\dots$ \\\\\n",
       "\t24 & 34 & \\emph{missing} & \\emph{missing} & What a wonderful day! & $\\dots$ \\\\\n",
       "\t25 & 36 & \\emph{missing} & \\emph{missing} & LOOOOOOL & $\\dots$ \\\\\n",
       "\t26 & 37 & \\emph{missing} & \\emph{missing} & No way...I can't eat that shit & $\\dots$ \\\\\n",
       "\t27 & 38 & \\emph{missing} & \\emph{missing} & Was in NYC last week! & $\\dots$ \\\\\n",
       "\t28 & 39 & \\emph{missing} & \\emph{missing} & Love my girlfriend & $\\dots$ \\\\\n",
       "\t29 & 40 & \\emph{missing} & \\emph{missing} & Cooool :) & $\\dots$ \\\\\n",
       "\t30 & 41 & \\emph{missing} & \\emph{missing} & Do you like pasta? & $\\dots$ \\\\\n",
       "\t$\\dots$ & $\\dots$ & $\\dots$ & $\\dots$ & $\\dots$ &  \\\\\n",
       "\\end{tabular}\n"
      ],
      "text/plain": [
       "\u001b[1m7613×5 DataFrame\u001b[0m\n",
       "\u001b[1m  Row \u001b[0m│\u001b[1m id    \u001b[0m\u001b[1m keyword \u001b[0m\u001b[1m location \u001b[0m\u001b[1m text                              \u001b[0m\u001b[1m target \u001b[0m\n",
       "\u001b[1m      \u001b[0m│\u001b[90m Int64 \u001b[0m\u001b[90m String? \u001b[0m\u001b[90m String?  \u001b[0m\u001b[90m String                            \u001b[0m\u001b[90m Int64  \u001b[0m\n",
       "──────┼─────────────────────────────────────────────────────────────────────\n",
       "    1 │     1 \u001b[90m missing \u001b[0m\u001b[90m missing  \u001b[0m Our Deeds are the Reason of this…       1\n",
       "    2 │     4 \u001b[90m missing \u001b[0m\u001b[90m missing  \u001b[0m Forest fire near La Ronge Sask. …       1\n",
       "    3 │     5 \u001b[90m missing \u001b[0m\u001b[90m missing  \u001b[0m All residents asked to 'shelter …       1\n",
       "    4 │     6 \u001b[90m missing \u001b[0m\u001b[90m missing  \u001b[0m 13,000 people receive #wildfires…       1\n",
       "    5 │     7 \u001b[90m missing \u001b[0m\u001b[90m missing  \u001b[0m Just got sent this photo from Ru…       1\n",
       "    6 │     8 \u001b[90m missing \u001b[0m\u001b[90m missing  \u001b[0m #RockyFire Update => California …       1\n",
       "    7 │    10 \u001b[90m missing \u001b[0m\u001b[90m missing  \u001b[0m #flood #disaster Heavy rain caus…       1\n",
       "    8 │    13 \u001b[90m missing \u001b[0m\u001b[90m missing  \u001b[0m I'm on top of the hill and I can…       1\n",
       "    9 │    14 \u001b[90m missing \u001b[0m\u001b[90m missing  \u001b[0m There's an emergency evacuation …       1\n",
       "   10 │    15 \u001b[90m missing \u001b[0m\u001b[90m missing  \u001b[0m I'm afraid that the tornado is c…       1\n",
       "   11 │    16 \u001b[90m missing \u001b[0m\u001b[90m missing  \u001b[0m Three people died from the heat …       1\n",
       "  ⋮   │   ⋮       ⋮        ⋮                      ⋮                    ⋮\n",
       " 7604 │ 10862 \u001b[90m missing \u001b[0m\u001b[90m missing  \u001b[0m Officials say a quarantine is in…       1\n",
       " 7605 │ 10863 \u001b[90m missing \u001b[0m\u001b[90m missing  \u001b[0m #WorldNews Fallen powerlines on …       1\n",
       " 7606 │ 10864 \u001b[90m missing \u001b[0m\u001b[90m missing  \u001b[0m on the flip side I'm at Walmart …       1\n",
       " 7607 │ 10866 \u001b[90m missing \u001b[0m\u001b[90m missing  \u001b[0m Suicide bomber kills 15 in Saudi…       1\n",
       " 7608 │ 10867 \u001b[90m missing \u001b[0m\u001b[90m missing  \u001b[0m #stormchase Violent Record Break…       1\n",
       " 7609 │ 10869 \u001b[90m missing \u001b[0m\u001b[90m missing  \u001b[0m Two giant cranes holding a bridg…       1\n",
       " 7610 │ 10870 \u001b[90m missing \u001b[0m\u001b[90m missing  \u001b[0m @aria_ahrary @TheTawniest The ou…       1\n",
       " 7611 │ 10871 \u001b[90m missing \u001b[0m\u001b[90m missing  \u001b[0m M1.94 [01:04 UTC]?5km S of Volca…       1\n",
       " 7612 │ 10872 \u001b[90m missing \u001b[0m\u001b[90m missing  \u001b[0m Police investigating after an e-…       1\n",
       " 7613 │ 10873 \u001b[90m missing \u001b[0m\u001b[90m missing  \u001b[0m The Latest: More Homes Razed by …       1\n",
       "\u001b[31m                                                           7592 rows omitted\u001b[0m"
      ]
     },
     "execution_count": 4,
     "metadata": {},
     "output_type": "execute_result"
    }
   ],
   "source": [
    "df = CSV.File(\"data/train.csv\") |> DataFrame!"
   ]
  },
  {
   "cell_type": "code",
   "execution_count": 29,
   "metadata": {},
   "outputs": [],
   "source": [
    "wordCounts = Dict{String, Int}()\n",
    "for text in df.text\n",
    "    for word in split(text, \" \")\n",
    "        if haskey(wordCounts, word)\n",
    "            wordCounts[word] += 1\n",
    "        else\n",
    "            wordCounts[word] = 1    \n",
    "        end\n",
    "    end\n",
    "end"
   ]
  },
  {
   "cell_type": "code",
   "execution_count": 33,
   "metadata": {},
   "outputs": [],
   "source": [
    "using Embeddings"
   ]
  },
  {
   "cell_type": "code",
   "execution_count": 35,
   "metadata": {},
   "outputs": [
    {
     "data": {
      "text/plain": [
       "Embeddings.EmbeddingTable{Array{Float32,2},Array{String,1}}(Float32[0.06731994 0.05295623 … -0.21142985 0.013637338; -0.05344657 0.06545979 … -0.0087888 -0.07428761; … ; -0.0073346887 0.010894641 … -0.0040515745 0.015611163; -0.0051456536 -0.047072206 … -0.034157887 0.039655942], [\"</s>\", \"in\", \"for\", \"that\", \"is\", \"on\", \"##\", \"The\", \"with\", \"said\"  …  \"#-###-PA-PARKS\", \"Lackmeyer\", \"PERVEZ\", \"KUNDI\", \"Budhadeb\", \"Nautsch\", \"Antuane\", \"tricorne\", \"VISIONPAD\", \"RAFFAELE\"])"
      ]
     },
     "execution_count": 35,
     "metadata": {},
     "output_type": "execute_result"
    }
   ],
   "source": [
    "word2vec = load_embeddings(Word2Vec)"
   ]
  }
 ],
 "metadata": {
  "kernelspec": {
   "display_name": "Julia 1.5.3",
   "language": "julia",
   "name": "julia-1.5"
  },
  "language_info": {
   "file_extension": ".jl",
   "mimetype": "application/julia",
   "name": "julia",
   "version": "1.5.3"
  }
 },
 "nbformat": 4,
 "nbformat_minor": 4
}
