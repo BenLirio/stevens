{
 "cells": [
  {
   "cell_type": "code",
   "execution_count": null,
   "id": "incredible-denial",
   "metadata": {},
   "outputs": [],
   "source": [
    "using LinearAlgebra"
   ]
  },
  {
   "cell_type": "code",
   "execution_count": 42,
   "id": "whole-attachment",
   "metadata": {},
   "outputs": [
    {
     "data": {
      "text/plain": [
       "3×3 Array{Int64,2}:\n",
       " 1  2  3\n",
       " 4  2  6\n",
       " 7  8  1"
      ]
     },
     "execution_count": 42,
     "metadata": {},
     "output_type": "execute_result"
    }
   ],
   "source": [
    "A = [1 2 3; 4 2 6; 7 8 1]"
   ]
  },
  {
   "cell_type": "code",
   "execution_count": 30,
   "id": "neural-equilibrium",
   "metadata": {},
   "outputs": [
    {
     "data": {
      "text/plain": [
       "3-element Array{Int64,1}:\n",
       " 2\n",
       " 4\n",
       " 1"
      ]
     },
     "execution_count": 30,
     "metadata": {},
     "output_type": "execute_result"
    }
   ],
   "source": [
    "x = [ 2; 4; 1 ]"
   ]
  },
  {
   "cell_type": "code",
   "execution_count": 36,
   "id": "fancy-scholarship",
   "metadata": {},
   "outputs": [
    {
     "data": {
      "text/plain": [
       "3-element Array{Float64,1}:\n",
       " 2.0\n",
       " 4.0\n",
       " 1.0"
      ]
     },
     "execution_count": 36,
     "metadata": {},
     "output_type": "execute_result"
    }
   ],
   "source": [
    "b = A*x\n",
    "A \\ b"
   ]
  },
  {
   "cell_type": "code",
   "execution_count": 38,
   "id": "first-score",
   "metadata": {},
   "outputs": [
    {
     "data": {
      "text/plain": [
       "0"
      ]
     },
     "execution_count": 38,
     "metadata": {},
     "output_type": "execute_result"
    }
   ],
   "source": [
    "x = [ 1; 2; 2 ]; y = [2; -2; 1];\n",
    "dot(x,y)"
   ]
  },
  {
   "cell_type": "code",
   "execution_count": 40,
   "id": "included-detective",
   "metadata": {},
   "outputs": [
    {
     "data": {
      "text/plain": [
       "LU{Float64,Array{Float64,2}}\n",
       "L factor:\n",
       "3×3 Array{Float64,2}:\n",
       " 1.0        0.0   0.0\n",
       " 0.571429   1.0   0.0\n",
       " 0.142857  -0.24  1.0\n",
       "U factor:\n",
       "3×3 Array{Float64,2}:\n",
       " 7.0   8.0      1.0\n",
       " 0.0  -3.57143  5.42857\n",
       " 0.0   0.0      4.16"
      ]
     },
     "execution_count": 40,
     "metadata": {},
     "output_type": "execute_result"
    }
   ],
   "source": [
    "factorize(A)"
   ]
  },
  {
   "cell_type": "code",
   "execution_count": 43,
   "id": "adverse-longitude",
   "metadata": {},
   "outputs": [
    {
     "data": {
      "text/plain": [
       "3×3 Diagonal{Int64,Array{Int64,1}}:\n",
       " 1  ⋅  ⋅\n",
       " ⋅  2  ⋅\n",
       " ⋅  ⋅  1"
      ]
     },
     "execution_count": 43,
     "metadata": {},
     "output_type": "execute_result"
    }
   ],
   "source": [
    "Diagonal(A)"
   ]
  },
  {
   "cell_type": "code",
   "execution_count": 53,
   "id": "premier-possible",
   "metadata": {},
   "outputs": [
    {
     "data": {
      "text/plain": [
       "3×3 Symmetric{Int64,Array{Int64,2}}:\n",
       " 1  2  3\n",
       " 2  2  6\n",
       " 3  6  1"
      ]
     },
     "execution_count": 53,
     "metadata": {},
     "output_type": "execute_result"
    }
   ],
   "source": [
    "Symmetric(A, :U)"
   ]
  },
  {
   "cell_type": "code",
   "execution_count": 56,
   "id": "severe-wayne",
   "metadata": {},
   "outputs": [
    {
     "data": {
      "text/plain": [
       "3×3 LowerTriangular{Int64,Array{Int64,2}}:\n",
       " 1  ⋅  ⋅\n",
       " 4  2  ⋅\n",
       " 7  8  1"
      ]
     },
     "execution_count": 56,
     "metadata": {},
     "output_type": "execute_result"
    }
   ],
   "source": [
    "LowerTriangular(A)"
   ]
  },
  {
   "cell_type": "code",
   "execution_count": 57,
   "id": "genuine-surveillance",
   "metadata": {},
   "outputs": [
    {
     "data": {
      "text/plain": [
       "3×3 UpperTriangular{Int64,Array{Int64,2}}:\n",
       " 1  2  3\n",
       " ⋅  2  6\n",
       " ⋅  ⋅  1"
      ]
     },
     "execution_count": 57,
     "metadata": {},
     "output_type": "execute_result"
    }
   ],
   "source": [
    "UpperTriangular(A)"
   ]
  },
  {
   "cell_type": "code",
   "execution_count": 58,
   "id": "short-person",
   "metadata": {},
   "outputs": [
    {
     "data": {
      "text/plain": [
       "3×3 UnitUpperTriangular{Int64,Array{Int64,2}}:\n",
       " 1  2  3\n",
       " ⋅  1  6\n",
       " ⋅  ⋅  1"
      ]
     },
     "execution_count": 58,
     "metadata": {},
     "output_type": "execute_result"
    }
   ],
   "source": [
    "UnitUpperTriangular(A)"
   ]
  },
  {
   "cell_type": "code",
   "execution_count": 60,
   "id": "pressing-calcium",
   "metadata": {},
   "outputs": [
    {
     "data": {
      "text/plain": [
       "2×2 Array{Int64,2}:\n",
       " 1  1\n",
       " 1  1"
      ]
     },
     "execution_count": 60,
     "metadata": {},
     "output_type": "execute_result"
    }
   ],
   "source": [
    "fill(1, (2,2))"
   ]
  },
  {
   "cell_type": "code",
   "execution_count": 61,
   "id": "heated-lighting",
   "metadata": {},
   "outputs": [
    {
     "data": {
      "text/plain": [
       "LU{Float64,Array{Float64,2}}\n",
       "L factor:\n",
       "3×3 Array{Float64,2}:\n",
       " 1.0        0.0       0.0\n",
       " 0.571429   1.0       0.0\n",
       " 0.142857  -0.333333  1.0\n",
       "U factor:\n",
       "3×3 Array{Float64,2}:\n",
       " 7.0   8.0      1.0\n",
       " 0.0  -2.57143  5.42857\n",
       " 0.0   0.0      4.66667"
      ]
     },
     "execution_count": 61,
     "metadata": {},
     "output_type": "execute_result"
    }
   ],
   "source": [
    "lu(A)"
   ]
  },
  {
   "cell_type": "code",
   "execution_count": 89,
   "id": "elementary-scale",
   "metadata": {},
   "outputs": [
    {
     "name": "stdout",
     "output_type": "stream",
     "text": [
      "fail\n",
      "[1 0 -1 -1; -1 1 -1 0; 0 1 1 0; 0 -1 1 0]\n"
     ]
    }
   ],
   "source": [
    "function construct_4by4(A, B, C, D)\n",
    "    E = Array{Int64,2}(undef, 4,4)\n",
    "    for i in 1:4\n",
    "        for j in 1:4\n",
    "            if i < 3\n",
    "                if j < 3\n",
    "                    E[i,j] = A[i,j]\n",
    "                else\n",
    "                    E[i,j] = B[i,j-2]\n",
    "                end\n",
    "            else\n",
    "                if j < 3\n",
    "                    E[i,j] = C[i-2,j]\n",
    "                else\n",
    "                    E[i,j] = D[i-2,j-2]\n",
    "                end\n",
    "            end\n",
    "        end\n",
    "    end\n",
    "    return E\n",
    "end\n",
    "for i in 1:100\n",
    "    A = rand(Int, (2,2)).%2\n",
    "    B = rand(Int, (2,2)).%2\n",
    "    C = rand(Int, (2,2)).%2\n",
    "    D = rand(Int, (2,2)).%2\n",
    "    E = construct_4by4(A, B, C, D)\n",
    "    if det(E) != det(A)*det(D) - det(C)*det(B)\n",
    "        println(\"fail\")\n",
    "        println(E)\n",
    "        break\n",
    "    end\n",
    "end"
   ]
  },
  {
   "cell_type": "code",
   "execution_count": 78,
   "id": "proprietary-shell",
   "metadata": {},
   "outputs": [
    {
     "data": {
      "text/plain": [
       "2×2 Array{Int64,2}:\n",
       "  2  0\n",
       " -1  2"
      ]
     },
     "execution_count": 78,
     "metadata": {},
     "output_type": "execute_result"
    }
   ],
   "source": [
    "a = rand(Int, (2,2))\n",
    "a.%3"
   ]
  },
  {
   "cell_type": "code",
   "execution_count": null,
   "id": "colored-tactics",
   "metadata": {},
   "outputs": [],
   "source": []
  },
  {
   "cell_type": "code",
   "execution_count": null,
   "id": "quarterly-hartford",
   "metadata": {},
   "outputs": [],
   "source": []
  },
  {
   "cell_type": "code",
   "execution_count": null,
   "id": "durable-principal",
   "metadata": {},
   "outputs": [],
   "source": []
  },
  {
   "cell_type": "code",
   "execution_count": null,
   "id": "sexual-bunch",
   "metadata": {},
   "outputs": [],
   "source": []
  },
  {
   "cell_type": "code",
   "execution_count": null,
   "id": "criminal-practitioner",
   "metadata": {},
   "outputs": [],
   "source": []
  },
  {
   "cell_type": "code",
   "execution_count": null,
   "id": "accredited-poland",
   "metadata": {},
   "outputs": [],
   "source": []
  },
  {
   "cell_type": "code",
   "execution_count": null,
   "id": "dress-finland",
   "metadata": {},
   "outputs": [],
   "source": []
  },
  {
   "cell_type": "code",
   "execution_count": null,
   "id": "closed-trauma",
   "metadata": {},
   "outputs": [],
   "source": []
  },
  {
   "cell_type": "code",
   "execution_count": null,
   "id": "academic-station",
   "metadata": {},
   "outputs": [],
   "source": []
  },
  {
   "cell_type": "code",
   "execution_count": null,
   "id": "gothic-share",
   "metadata": {},
   "outputs": [],
   "source": []
  },
  {
   "cell_type": "code",
   "execution_count": null,
   "id": "younger-consumer",
   "metadata": {},
   "outputs": [],
   "source": []
  },
  {
   "cell_type": "code",
   "execution_count": null,
   "id": "analyzed-machinery",
   "metadata": {},
   "outputs": [],
   "source": []
  },
  {
   "cell_type": "code",
   "execution_count": null,
   "id": "sustained-labor",
   "metadata": {},
   "outputs": [],
   "source": []
  },
  {
   "cell_type": "code",
   "execution_count": null,
   "id": "graphic-blank",
   "metadata": {},
   "outputs": [],
   "source": []
  },
  {
   "cell_type": "code",
   "execution_count": null,
   "id": "experimental-checkout",
   "metadata": {},
   "outputs": [],
   "source": []
  },
  {
   "cell_type": "code",
   "execution_count": null,
   "id": "moved-female",
   "metadata": {},
   "outputs": [],
   "source": []
  },
  {
   "cell_type": "code",
   "execution_count": null,
   "id": "provincial-break",
   "metadata": {},
   "outputs": [],
   "source": []
  },
  {
   "cell_type": "code",
   "execution_count": null,
   "id": "academic-investigator",
   "metadata": {},
   "outputs": [],
   "source": []
  },
  {
   "cell_type": "code",
   "execution_count": null,
   "id": "filled-extension",
   "metadata": {},
   "outputs": [],
   "source": []
  },
  {
   "cell_type": "code",
   "execution_count": null,
   "id": "arabic-thirty",
   "metadata": {},
   "outputs": [],
   "source": []
  },
  {
   "cell_type": "code",
   "execution_count": null,
   "id": "duplicate-corpus",
   "metadata": {},
   "outputs": [],
   "source": []
  },
  {
   "cell_type": "code",
   "execution_count": null,
   "id": "precious-hospital",
   "metadata": {},
   "outputs": [],
   "source": []
  },
  {
   "cell_type": "code",
   "execution_count": null,
   "id": "sexual-progressive",
   "metadata": {},
   "outputs": [],
   "source": []
  },
  {
   "cell_type": "code",
   "execution_count": null,
   "id": "ahead-recording",
   "metadata": {},
   "outputs": [],
   "source": []
  },
  {
   "cell_type": "code",
   "execution_count": null,
   "id": "serial-vacation",
   "metadata": {},
   "outputs": [],
   "source": []
  },
  {
   "cell_type": "code",
   "execution_count": null,
   "id": "atomic-wheel",
   "metadata": {},
   "outputs": [],
   "source": []
  },
  {
   "cell_type": "code",
   "execution_count": null,
   "id": "satellite-tiffany",
   "metadata": {},
   "outputs": [],
   "source": []
  },
  {
   "cell_type": "code",
   "execution_count": null,
   "id": "piano-humanity",
   "metadata": {},
   "outputs": [],
   "source": []
  },
  {
   "cell_type": "code",
   "execution_count": null,
   "id": "vietnamese-evening",
   "metadata": {},
   "outputs": [],
   "source": []
  },
  {
   "cell_type": "code",
   "execution_count": null,
   "id": "forbidden-palace",
   "metadata": {},
   "outputs": [],
   "source": []
  },
  {
   "cell_type": "code",
   "execution_count": null,
   "id": "bronze-butterfly",
   "metadata": {},
   "outputs": [],
   "source": []
  },
  {
   "cell_type": "code",
   "execution_count": null,
   "id": "fossil-prayer",
   "metadata": {},
   "outputs": [],
   "source": []
  },
  {
   "cell_type": "code",
   "execution_count": null,
   "id": "pressing-laundry",
   "metadata": {},
   "outputs": [],
   "source": []
  },
  {
   "cell_type": "code",
   "execution_count": null,
   "id": "eight-contributor",
   "metadata": {},
   "outputs": [],
   "source": []
  },
  {
   "cell_type": "code",
   "execution_count": null,
   "id": "southeast-graduate",
   "metadata": {},
   "outputs": [],
   "source": []
  },
  {
   "cell_type": "code",
   "execution_count": null,
   "id": "future-translation",
   "metadata": {},
   "outputs": [],
   "source": []
  },
  {
   "cell_type": "code",
   "execution_count": null,
   "id": "julian-kernel",
   "metadata": {},
   "outputs": [],
   "source": []
  }
 ],
 "metadata": {
  "kernelspec": {
   "display_name": "Julia 1.5.3",
   "language": "julia",
   "name": "julia-1.5"
  },
  "language_info": {
   "file_extension": ".jl",
   "mimetype": "application/julia",
   "name": "julia",
   "version": "1.5.3"
  }
 },
 "nbformat": 4,
 "nbformat_minor": 5
}
