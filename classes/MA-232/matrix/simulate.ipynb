{
 "cells": [
  {
   "cell_type": "markdown",
   "id": "defined-tractor",
   "metadata": {},
   "source": [
    "# Matrix Function"
   ]
  },
  {
   "cell_type": "markdown",
   "id": "hearing-supply",
   "metadata": {},
   "source": [
    "What is a matrix?"
   ]
  },
  {
   "cell_type": "code",
   "execution_count": 4,
   "id": "divided-template",
   "metadata": {},
   "outputs": [
    {
     "data": {
      "text/plain": [
       "3×3 Array{Int64,2}:\n",
       " 1  2  3\n",
       " 4  5  6\n",
       " 7  8  9"
      ]
     },
     "execution_count": 4,
     "metadata": {},
     "output_type": "execute_result"
    }
   ],
   "source": [
    "A = [1 2 3;\n",
    "     4 5 6;\n",
    "     7 8 9]"
   ]
  },
  {
   "cell_type": "markdown",
   "id": "stretch-stamp",
   "metadata": {},
   "source": [
    "What is the size of the matrix?"
   ]
  },
  {
   "cell_type": "code",
   "execution_count": 17,
   "id": "informational-internet",
   "metadata": {},
   "outputs": [
    {
     "data": {
      "text/plain": [
       "(3, 3)"
      ]
     },
     "execution_count": 17,
     "metadata": {},
     "output_type": "execute_result"
    }
   ],
   "source": [
    "size(A)"
   ]
  },
  {
   "cell_type": "markdown",
   "id": "potential-snowboard",
   "metadata": {},
   "source": [
    "How many dimensions does this matrix have?"
   ]
  },
  {
   "cell_type": "code",
   "execution_count": 7,
   "id": "nuclear-contrast",
   "metadata": {},
   "outputs": [
    {
     "data": {
      "text/plain": [
       "2"
      ]
     },
     "execution_count": 7,
     "metadata": {},
     "output_type": "execute_result"
    }
   ],
   "source": [
    "n_dims(A) = length(size(A))\n",
    "n_dims(A)"
   ]
  },
  {
   "cell_type": "markdown",
   "id": "neutral-tuning",
   "metadata": {},
   "source": [
    "How can I multiply a matrix"
   ]
  },
  {
   "cell_type": "code",
   "execution_count": 8,
   "id": "committed-start",
   "metadata": {},
   "outputs": [
    {
     "data": {
      "text/plain": [
       "2×2 Array{Float64,2}:\n",
       "  7.0  10.0\n",
       " 15.0  22.0"
      ]
     },
     "execution_count": 8,
     "metadata": {},
     "output_type": "execute_result"
    }
   ],
   "source": [
    "function multiply(A, B)\n",
    "    a_dims = n_dims(A)\n",
    "    if a_dims ≠ 2 throw(\"Error: Expected matrix to have size 2 got $a_dims\") end\n",
    "    b_dims = n_dims(B)\n",
    "    if b_dims ≠ 2 throw(\"Error: Expected matrix to have size 2 got $b_dims\") end\n",
    "    a_size = size(A)\n",
    "    b_size = size(B)\n",
    "    if a_size[2] ≠ b_size[1] throw(\"Error: Matrix of size $a_size can not multiply size $b_size\") end\n",
    "    shared_size = a_size[2]\n",
    "    C = Matrix{Float64}(undef, a_size[1], b_size[2])\n",
    "    for row in 1:size(C)[1]\n",
    "        for column in 1:size(C)[2]\n",
    "            for shared in 1:shared_size\n",
    "                C[row, column] += A[row, shared] * B[shared, column]\n",
    "            end\n",
    "        end\n",
    "    end\n",
    "    return C\n",
    "end\n",
    "A = [ 1 2;\n",
    "      3 4]\n",
    "multiply(A,A)"
   ]
  },
  {
   "cell_type": "markdown",
   "id": "happy-detail",
   "metadata": {},
   "source": [
    "How can I transpose a matrix?"
   ]
  },
  {
   "cell_type": "code",
   "execution_count": 9,
   "id": "helpful-assumption",
   "metadata": {},
   "outputs": [
    {
     "data": {
      "text/plain": [
       "2×2 Array{Float64,2}:\n",
       " 1.0  3.0\n",
       " 2.0  4.0"
      ]
     },
     "execution_count": 9,
     "metadata": {},
     "output_type": "execute_result"
    }
   ],
   "source": [
    "function T(A)\n",
    "    A′ = Array{Float64, 2}(undef, size(A)[2], size(A)[1])\n",
    "    for row ∈ 1:size(A′)[1]\n",
    "        for column ∈ 1:size(A′)[2]\n",
    "            A′[row, column] = A[column, row]\n",
    "        end\n",
    "    end\n",
    "    \n",
    "    return A′\n",
    "end\n",
    "A = [ 1 2;\n",
    "      3 4]\n",
    "T(A)"
   ]
  },
  {
   "cell_type": "markdown",
   "id": "occasional-mountain",
   "metadata": {},
   "source": [
    "How would I do a projection?"
   ]
  },
  {
   "cell_type": "code",
   "execution_count": 10,
   "id": "weighted-crisis",
   "metadata": {},
   "outputs": [
    {
     "data": {
      "text/plain": [
       "2×2 Array{Float64,2}:\n",
       " 1.0  2.0\n",
       " 3.0  4.0"
      ]
     },
     "execution_count": 10,
     "metadata": {},
     "output_type": "execute_result"
    }
   ],
   "source": [
    "function project(A, B)\n",
    "    middle = Base.inv(multiply(T(A), A))\n",
    "    P = multiply(multiply(A, middle), T(A))\n",
    "    p = multiply(P, B)\n",
    "    return p\n",
    "end\n",
    "project(A, A)"
   ]
  },
  {
   "cell_type": "code",
   "execution_count": 15,
   "id": "small-volume",
   "metadata": {},
   "outputs": [
    {
     "data": {
      "text/plain": [
       "4×3 Array{Float64,2}:\n",
       "  1.0   0.5            0.333333\n",
       " -1.0   0.5            0.333333\n",
       "  0.0  -1.0            0.333333\n",
       "  0.0  -6.94654e-310  -1.0"
      ]
     },
     "execution_count": 15,
     "metadata": {},
     "output_type": "execute_result"
    }
   ],
   "source": [
    "function gram_schmit(A)\n",
    "    n, m = size(A)\n",
    "    A′ = copy(A)\n",
    "    for i ∈ 1:n\n",
    "        A′[i,1] = A[i,1]\n",
    "    end\n",
    "    for col in 2:m\n",
    "        base = reshape(A′[:,1:(col-1)], n, col-1)\n",
    "        cur = reshape(A′[:, col], n, 1)\n",
    "        p = project(base, cur)\n",
    "        cur = cur - p\n",
    "        for i ∈ 1:n\n",
    "            A′[i,col] = cur[i,1]\n",
    "        end\n",
    "    end\n",
    "    return A′\n",
    "end\n",
    "A = [ 1 0  0.0;\n",
    "      -1 1  0;\n",
    "      0 -1 1;\n",
    "    0 0 -1]\n",
    "gram_schmit(A)"
   ]
  },
  {
   "cell_type": "code",
   "execution_count": null,
   "id": "painted-singapore",
   "metadata": {},
   "outputs": [],
   "source": []
  },
  {
   "cell_type": "code",
   "execution_count": null,
   "id": "documentary-gallery",
   "metadata": {},
   "outputs": [],
   "source": []
  },
  {
   "cell_type": "code",
   "execution_count": null,
   "id": "federal-photograph",
   "metadata": {},
   "outputs": [],
   "source": []
  },
  {
   "cell_type": "code",
   "execution_count": null,
   "id": "neural-causing",
   "metadata": {},
   "outputs": [],
   "source": []
  },
  {
   "cell_type": "code",
   "execution_count": null,
   "id": "respective-optimum",
   "metadata": {},
   "outputs": [],
   "source": []
  },
  {
   "cell_type": "code",
   "execution_count": null,
   "id": "nonprofit-tours",
   "metadata": {},
   "outputs": [],
   "source": []
  },
  {
   "cell_type": "code",
   "execution_count": null,
   "id": "suffering-destination",
   "metadata": {},
   "outputs": [],
   "source": []
  },
  {
   "cell_type": "code",
   "execution_count": null,
   "id": "cutting-redhead",
   "metadata": {},
   "outputs": [],
   "source": []
  },
  {
   "cell_type": "code",
   "execution_count": null,
   "id": "stainless-trance",
   "metadata": {},
   "outputs": [],
   "source": []
  },
  {
   "cell_type": "code",
   "execution_count": null,
   "id": "opening-segment",
   "metadata": {},
   "outputs": [],
   "source": []
  },
  {
   "cell_type": "code",
   "execution_count": null,
   "id": "bibliographic-lesbian",
   "metadata": {},
   "outputs": [],
   "source": []
  },
  {
   "cell_type": "code",
   "execution_count": null,
   "id": "welcome-freedom",
   "metadata": {},
   "outputs": [],
   "source": []
  },
  {
   "cell_type": "code",
   "execution_count": null,
   "id": "mathematical-traffic",
   "metadata": {},
   "outputs": [],
   "source": []
  },
  {
   "cell_type": "code",
   "execution_count": null,
   "id": "czech-preliminary",
   "metadata": {},
   "outputs": [],
   "source": []
  },
  {
   "cell_type": "code",
   "execution_count": null,
   "id": "adopted-charge",
   "metadata": {},
   "outputs": [],
   "source": []
  },
  {
   "cell_type": "code",
   "execution_count": null,
   "id": "stuck-permit",
   "metadata": {},
   "outputs": [],
   "source": []
  },
  {
   "cell_type": "code",
   "execution_count": null,
   "id": "hidden-overhead",
   "metadata": {},
   "outputs": [],
   "source": []
  },
  {
   "cell_type": "code",
   "execution_count": null,
   "id": "lesser-liquid",
   "metadata": {},
   "outputs": [],
   "source": []
  },
  {
   "cell_type": "code",
   "execution_count": null,
   "id": "incredible-matthew",
   "metadata": {},
   "outputs": [],
   "source": []
  },
  {
   "cell_type": "code",
   "execution_count": null,
   "id": "rental-return",
   "metadata": {},
   "outputs": [],
   "source": []
  }
 ],
 "metadata": {
  "kernelspec": {
   "display_name": "Julia 1.5.3",
   "language": "julia",
   "name": "julia-1.5"
  },
  "language_info": {
   "file_extension": ".jl",
   "mimetype": "application/julia",
   "name": "julia",
   "version": "1.5.3"
  }
 },
 "nbformat": 4,
 "nbformat_minor": 5
}
