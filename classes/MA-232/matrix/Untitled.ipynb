{
 "cells": [
  {
   "cell_type": "code",
   "execution_count": 8,
   "id": "exempt-yacht",
   "metadata": {},
   "outputs": [
    {
     "data": {
      "text/plain": [
       "3×3 LinearAlgebra.Transpose{Int64,Array{Int64,2}}:\n",
       " 13  11  5\n",
       " 14  22  6\n",
       "  7  13  6"
      ]
     },
     "execution_count": 8,
     "metadata": {},
     "output_type": "execute_result"
    }
   ],
   "source": [
    "A = [1 2 3; 4 3 0; 0 2 1]\n",
    "B = [2 4 1; 1 2 3; 3 2 0]\n",
    "transpose(A*B)"
   ]
  },
  {
   "cell_type": "code",
   "execution_count": 13,
   "id": "conventional-plant",
   "metadata": {},
   "outputs": [
    {
     "data": {
      "text/plain": [
       "3×3 Array{Float64,2}:\n",
       "  0.142105   -0.205263    0.0263158\n",
       " -0.0394737   0.223684   -0.118421\n",
       " -0.121053   -0.0473684   0.236842"
      ]
     },
     "execution_count": 13,
     "metadata": {},
     "output_type": "execute_result"
    }
   ],
   "source": [
    "inv(A)*inv(B)"
   ]
  },
  {
   "cell_type": "code",
   "execution_count": 24,
   "id": "collected-force",
   "metadata": {},
   "outputs": [
    {
     "data": {
      "text/plain": [
       "3×3 Array{Float64,2}:\n",
       "  1.0          -3.33067e-16  4.44089e-16\n",
       " -2.22045e-16   1.0          2.22045e-16\n",
       "  0.0          -2.22045e-16  1.0"
      ]
     },
     "execution_count": 24,
     "metadata": {},
     "output_type": "execute_result"
    }
   ],
   "source": [
    "(B*A)*inv(B*A)"
   ]
  }
 ],
 "metadata": {
  "kernelspec": {
   "display_name": "Julia 1.5.3",
   "language": "julia",
   "name": "julia-1.5"
  },
  "language_info": {
   "file_extension": ".jl",
   "mimetype": "application/julia",
   "name": "julia",
   "version": "1.5.3"
  }
 },
 "nbformat": 4,
 "nbformat_minor": 5
}
