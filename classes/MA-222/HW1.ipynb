{
 "cells": [
  {
   "cell_type": "code",
   "execution_count": 108,
   "id": "worse-ancient",
   "metadata": {},
   "outputs": [
    {
     "name": "stdout",
     "output_type": "stream",
     "text": [
      "Array{Any,1}[[false, false, false], [true, false, false], [false, true, false], [true, true, false], [false, false, true], [true, false, true], [false, true, true], [true, true, true]]\n"
     ]
    }
   ],
   "source": [
    "const P = true\n",
    "const F = false\n",
    "components = 1:3\n",
    "function model()\n",
    "    states = [[]]\n",
    "    for component ∈ components\n",
    "        for state ∈ copy(states)\n",
    "            s1 = state\n",
    "            s2 = copy(state)\n",
    "            push!(states, s2)\n",
    "            push!(s1, F)\n",
    "            push!(s2, P)\n",
    "        end\n",
    "    end\n",
    "    return states\n",
    "end\n",
    "\n",
    "states = model()\n",
    "println(states)"
   ]
  },
  {
   "cell_type": "code",
   "execution_count": 136,
   "id": "incoming-magazine",
   "metadata": {},
   "outputs": [
    {
     "data": {
      "text/plain": [
       "4-element Array{Any,1}:\n",
       " Any[true, true, false]\n",
       " Any[true, false, true]\n",
       " Any[false, true, true]\n",
       " Any[true, true, true]"
      ]
     },
     "execution_count": 136,
     "metadata": {},
     "output_type": "execute_result"
    }
   ],
   "source": [
    "function EventA(states)\n",
    "    outcomes = []\n",
    "    for state ∈ states\n",
    "        numValid = 0\n",
    "        for component ∈ state\n",
    "            if component == P numValid += 1 end\n",
    "            \n",
    "        end\n",
    "        if numValid == 2\n",
    "            push!(outcomes, state)\n",
    "        end\n",
    "    end\n",
    "    return outcomes\n",
    "end\n",
    "function EventB(states)\n",
    "    outcomes = []\n",
    "    for state ∈ states\n",
    "        numValid = 0\n",
    "        for component ∈ state\n",
    "            if component == P numValid += 1 end\n",
    "            if numValid >= 2 push!(outcomes, state) end\n",
    "        end\n",
    "    end\n",
    "    return outcomes\n",
    "end\n",
    "function EventC(states)\n",
    "    outcomes = []\n",
    "    for state ∈ states\n",
    "        if state[1] == false continue end\n",
    "        if state[2] == false && state[3] == false continue end\n",
    "        push!(outcomes, state)\n",
    "    end\n",
    "    return outcomes\n",
    "end\n",
    "function EventC′(states)\n",
    "    C = EventC(states)\n",
    "    outcomes = []\n",
    "    for state ∈ states\n",
    "        skip = false\n",
    "        for c ∈ C\n",
    "            if state == c skip = true end\n",
    "        end\n",
    "        if !skip push!(outcomes, state) end\n",
    "    end\n",
    "    return outcomes\n",
    "end\n",
    "function AorC(states)\n",
    "    outcomes = []\n",
    "    A = EventA(states)\n",
    "    C = EventC(states)\n",
    "    for a ∈ A\n",
    "        push!(outcomes, a)\n",
    "    end\n",
    "    for c ∈ C\n",
    "        repeat = false\n",
    "        for a ∈ A\n",
    "            if c == a\n",
    "                repeat = true\n",
    "                break\n",
    "            end\n",
    "        end\n",
    "        if repeat == false push!(outcomes, c) end\n",
    "    end\n",
    "        \n",
    "    return outcomes\n",
    "end\n",
    "EventA(states)\n",
    "EventB(states)\n",
    "EventC(states)\n",
    "EventC′(states)\n",
    "AorC(states)\n"
   ]
  }
 ],
 "metadata": {
  "kernelspec": {
   "display_name": "Julia 1.5.3",
   "language": "julia",
   "name": "julia-1.5"
  },
  "language_info": {
   "file_extension": ".jl",
   "mimetype": "application/julia",
   "name": "julia",
   "version": "1.5.3"
  }
 },
 "nbformat": 4,
 "nbformat_minor": 5
}
