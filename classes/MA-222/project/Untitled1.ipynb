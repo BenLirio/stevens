{
 "cells": [
  {
   "cell_type": "code",
   "execution_count": 4,
   "id": "discrete-african",
   "metadata": {},
   "outputs": [],
   "source": [
    "using DataFrames\n",
    "using Plots\n",
    "using CSV"
   ]
  },
  {
   "cell_type": "code",
   "execution_count": 11,
   "id": "automated-puppy",
   "metadata": {},
   "outputs": [
    {
     "data": {
      "text/html": [
       "<table class=\"data-frame\"><thead><tr><th></th><th>x</th><th>y</th><th>pdf</th></tr><tr><th></th><th>Float64</th><th>Float64</th><th>Float64</th></tr></thead><tbody><p>500 rows × 3 columns</p><tr><th>1</th><td>0.758816</td><td>0.947175</td><td>0.067165</td></tr><tr><th>2</th><td>0.564359</td><td>0.177291</td><td>0.459801</td></tr><tr><th>3</th><td>0.150999</td><td>0.352404</td><td>0.025424</td></tr><tr><th>4</th><td>0.556883</td><td>0.936951</td><td>0.187276</td></tr><tr><th>5</th><td>0.231186</td><td>0.783572</td><td>0.191177</td></tr><tr><th>6</th><td>0.064619</td><td>0.181035</td><td>0.031472</td></tr><tr><th>7</th><td>0.98019</td><td>0.615179</td><td>0.309741</td></tr><tr><th>8</th><td>0.379266</td><td>0.26597</td><td>0.274589</td></tr><tr><th>9</th><td>0.180361</td><td>0.514694</td><td>0.076982</td></tr><tr><th>10</th><td>0.950777</td><td>0.150389</td><td>0.693974</td></tr><tr><th>11</th><td>0.526723</td><td>0.106197</td><td>0.46623</td></tr><tr><th>12</th><td>0.858365</td><td>0.486992</td><td>0.383185</td></tr><tr><th>13</th><td>0.414883</td><td>0.931862</td><td>0.273828</td></tr><tr><th>14</th><td>0.653582</td><td>0.051314</td><td>0.586077</td></tr><tr><th>15</th><td>0.608814</td><td>0.35192</td><td>0.37626</td></tr><tr><th>16</th><td>0.903596</td><td>0.773039</td><td>0.149751</td></tr><tr><th>17</th><td>0.241647</td><td>0.273726</td><td>0.155371</td></tr><tr><th>18</th><td>0.012781</td><td>0.885475</td><td>0.012638</td></tr><tr><th>19</th><td>0.852602</td><td>0.850549</td><td>0.062341</td></tr><tr><th>20</th><td>0.150759</td><td>0.958815</td><td>0.129995</td></tr><tr><th>21</th><td>0.413165</td><td>0.540715</td><td>0.096368</td></tr><tr><th>22</th><td>0.365008</td><td>0.83282</td><td>0.238079</td></tr><tr><th>23</th><td>0.545663</td><td>0.167729</td><td>0.451587</td></tr><tr><th>24</th><td>0.20617</td><td>0.714532</td><td>0.176698</td></tr><tr><th>25</th><td>0.387331</td><td>0.871992</td><td>0.259958</td></tr><tr><th>26</th><td>0.444173</td><td>0.95666</td><td>0.280969</td></tr><tr><th>27</th><td>0.803027</td><td>0.094752</td><td>0.661129</td></tr><tr><th>28</th><td>0.703307</td><td>0.282244</td><td>0.478855</td></tr><tr><th>29</th><td>0.899691</td><td>0.984904</td><td>0.02909</td></tr><tr><th>30</th><td>0.094358</td><td>0.471246</td><td>0.090141</td></tr><tr><th>&vellip;</th><td>&vellip;</td><td>&vellip;</td><td>&vellip;</td></tr></tbody></table>"
      ],
      "text/latex": [
       "\\begin{tabular}{r|ccc}\n",
       "\t& x & y & pdf\\\\\n",
       "\t\\hline\n",
       "\t& Float64 & Float64 & Float64\\\\\n",
       "\t\\hline\n",
       "\t1 & 0.758816 & 0.947175 & 0.067165 \\\\\n",
       "\t2 & 0.564359 & 0.177291 & 0.459801 \\\\\n",
       "\t3 & 0.150999 & 0.352404 & 0.025424 \\\\\n",
       "\t4 & 0.556883 & 0.936951 & 0.187276 \\\\\n",
       "\t5 & 0.231186 & 0.783572 & 0.191177 \\\\\n",
       "\t6 & 0.064619 & 0.181035 & 0.031472 \\\\\n",
       "\t7 & 0.98019 & 0.615179 & 0.309741 \\\\\n",
       "\t8 & 0.379266 & 0.26597 & 0.274589 \\\\\n",
       "\t9 & 0.180361 & 0.514694 & 0.076982 \\\\\n",
       "\t10 & 0.950777 & 0.150389 & 0.693974 \\\\\n",
       "\t11 & 0.526723 & 0.106197 & 0.46623 \\\\\n",
       "\t12 & 0.858365 & 0.486992 & 0.383185 \\\\\n",
       "\t13 & 0.414883 & 0.931862 & 0.273828 \\\\\n",
       "\t14 & 0.653582 & 0.051314 & 0.586077 \\\\\n",
       "\t15 & 0.608814 & 0.35192 & 0.37626 \\\\\n",
       "\t16 & 0.903596 & 0.773039 & 0.149751 \\\\\n",
       "\t17 & 0.241647 & 0.273726 & 0.155371 \\\\\n",
       "\t18 & 0.012781 & 0.885475 & 0.012638 \\\\\n",
       "\t19 & 0.852602 & 0.850549 & 0.062341 \\\\\n",
       "\t20 & 0.150759 & 0.958815 & 0.129995 \\\\\n",
       "\t21 & 0.413165 & 0.540715 & 0.096368 \\\\\n",
       "\t22 & 0.365008 & 0.83282 & 0.238079 \\\\\n",
       "\t23 & 0.545663 & 0.167729 & 0.451587 \\\\\n",
       "\t24 & 0.20617 & 0.714532 & 0.176698 \\\\\n",
       "\t25 & 0.387331 & 0.871992 & 0.259958 \\\\\n",
       "\t26 & 0.444173 & 0.95666 & 0.280969 \\\\\n",
       "\t27 & 0.803027 & 0.094752 & 0.661129 \\\\\n",
       "\t28 & 0.703307 & 0.282244 & 0.478855 \\\\\n",
       "\t29 & 0.899691 & 0.984904 & 0.02909 \\\\\n",
       "\t30 & 0.094358 & 0.471246 & 0.090141 \\\\\n",
       "\t$\\dots$ & $\\dots$ & $\\dots$ & $\\dots$ \\\\\n",
       "\\end{tabular}\n"
      ],
      "text/plain": [
       "\u001b[1m500×3 DataFrame\u001b[0m\n",
       "\u001b[1m Row \u001b[0m│\u001b[1m x        \u001b[0m\u001b[1m y        \u001b[0m\u001b[1m pdf      \u001b[0m\n",
       "\u001b[1m     \u001b[0m│\u001b[90m Float64  \u001b[0m\u001b[90m Float64  \u001b[0m\u001b[90m Float64  \u001b[0m\n",
       "─────┼──────────────────────────────\n",
       "   1 │ 0.758816  0.947175  0.067165\n",
       "   2 │ 0.564359  0.177291  0.459801\n",
       "   3 │ 0.150999  0.352404  0.025424\n",
       "   4 │ 0.556883  0.936951  0.187276\n",
       "   5 │ 0.231186  0.783572  0.191177\n",
       "   6 │ 0.064619  0.181035  0.031472\n",
       "   7 │ 0.98019   0.615179  0.309741\n",
       "   8 │ 0.379266  0.26597   0.274589\n",
       "   9 │ 0.180361  0.514694  0.076982\n",
       "  10 │ 0.950777  0.150389  0.693974\n",
       "  11 │ 0.526723  0.106197  0.46623\n",
       "  ⋮  │    ⋮         ⋮         ⋮\n",
       " 491 │ 0.06949   0.69941   0.066156\n",
       " 492 │ 0.440958  0.908798  0.251532\n",
       " 493 │ 0.77902   0.235232  0.551306\n",
       " 494 │ 0.576251  0.236018  0.434188\n",
       " 495 │ 0.523062  0.466029  0.235966\n",
       " 496 │ 0.624298  0.629175  0.152893\n",
       " 497 │ 0.932976  0.557396  0.346587\n",
       " 498 │ 0.502842  0.026595  0.474952\n",
       " 499 │ 0.119455  0.372991  0.018813\n",
       " 500 │ 0.272799  0.116575  0.248343\n",
       "\u001b[36m                    479 rows omitted\u001b[0m"
      ]
     },
     "execution_count": 11,
     "metadata": {},
     "output_type": "execute_result"
    }
   ],
   "source": [
    "data = CSV.read(\"monte_carlo.csv\", DataFrame)"
   ]
  },
  {
   "cell_type": "code",
   "execution_count": 20,
   "id": "later-uruguay",
   "metadata": {},
   "outputs": [
    {
     "ename": "LoadError",
     "evalue": "UndefVarError: ax not defined",
     "output_type": "error",
     "traceback": [
      "UndefVarError: ax not defined",
      "",
      "Stacktrace:",
      " [1] top-level scope at In[20]:2"
     ]
    }
   ],
   "source": [
    "surface(data.x, data.y, data.pdf)\n"
   ]
  },
  {
   "cell_type": "code",
   "execution_count": null,
   "id": "private-classic",
   "metadata": {},
   "outputs": [],
   "source": []
  },
  {
   "cell_type": "code",
   "execution_count": null,
   "id": "loaded-secretariat",
   "metadata": {},
   "outputs": [],
   "source": []
  },
  {
   "cell_type": "code",
   "execution_count": null,
   "id": "racial-skill",
   "metadata": {},
   "outputs": [],
   "source": []
  },
  {
   "cell_type": "code",
   "execution_count": null,
   "id": "underlying-egyptian",
   "metadata": {},
   "outputs": [],
   "source": []
  },
  {
   "cell_type": "code",
   "execution_count": null,
   "id": "august-chicago",
   "metadata": {},
   "outputs": [],
   "source": []
  },
  {
   "cell_type": "code",
   "execution_count": null,
   "id": "angry-telescope",
   "metadata": {},
   "outputs": [],
   "source": []
  },
  {
   "cell_type": "code",
   "execution_count": null,
   "id": "respected-surveillance",
   "metadata": {},
   "outputs": [],
   "source": []
  },
  {
   "cell_type": "code",
   "execution_count": null,
   "id": "statistical-applicant",
   "metadata": {},
   "outputs": [],
   "source": []
  },
  {
   "cell_type": "code",
   "execution_count": null,
   "id": "spoken-scenario",
   "metadata": {},
   "outputs": [],
   "source": []
  },
  {
   "cell_type": "code",
   "execution_count": null,
   "id": "white-speed",
   "metadata": {},
   "outputs": [],
   "source": []
  },
  {
   "cell_type": "code",
   "execution_count": null,
   "id": "tracked-incident",
   "metadata": {},
   "outputs": [],
   "source": []
  },
  {
   "cell_type": "code",
   "execution_count": null,
   "id": "collected-taste",
   "metadata": {},
   "outputs": [],
   "source": []
  },
  {
   "cell_type": "code",
   "execution_count": null,
   "id": "terminal-gauge",
   "metadata": {},
   "outputs": [],
   "source": []
  },
  {
   "cell_type": "code",
   "execution_count": null,
   "id": "opening-furniture",
   "metadata": {},
   "outputs": [],
   "source": []
  },
  {
   "cell_type": "code",
   "execution_count": null,
   "id": "humanitarian-hunter",
   "metadata": {},
   "outputs": [],
   "source": []
  },
  {
   "cell_type": "code",
   "execution_count": null,
   "id": "intense-person",
   "metadata": {},
   "outputs": [],
   "source": []
  }
 ],
 "metadata": {
  "kernelspec": {
   "display_name": "Julia 1.5.3",
   "language": "julia",
   "name": "julia-1.5"
  },
  "language_info": {
   "file_extension": ".jl",
   "mimetype": "application/julia",
   "name": "julia",
   "version": "1.5.3"
  }
 },
 "nbformat": 4,
 "nbformat_minor": 5
}
