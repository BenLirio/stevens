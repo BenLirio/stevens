{
 "cells": [
  {
   "cell_type": "code",
   "execution_count": 5,
   "id": "respiratory-documentary",
   "metadata": {},
   "outputs": [],
   "source": [
    "using DataFrames\n",
    "using CSV\n",
    "using Plots"
   ]
  },
  {
   "cell_type": "code",
   "execution_count": 52,
   "id": "built-stations",
   "metadata": {},
   "outputs": [
    {
     "data": {
      "text/html": [
       "<table class=\"data-frame\"><thead><tr><th></th><th>height</th><th>weight</th></tr><tr><th></th><th>Float64</th><th>Float64</th></tr></thead><tbody><p>200 rows × 2 columns</p><tr><th>1</th><td>65.7833</td><td>112.993</td></tr><tr><th>2</th><td>71.5152</td><td>136.487</td></tr><tr><th>3</th><td>69.3987</td><td>153.027</td></tr><tr><th>4</th><td>68.2166</td><td>142.335</td></tr><tr><th>5</th><td>67.7878</td><td>144.297</td></tr><tr><th>6</th><td>68.6978</td><td>123.302</td></tr><tr><th>7</th><td>69.802</td><td>141.495</td></tr><tr><th>8</th><td>70.0147</td><td>136.462</td></tr><tr><th>9</th><td>67.9027</td><td>112.372</td></tr><tr><th>10</th><td>66.7824</td><td>120.667</td></tr><tr><th>11</th><td>66.4877</td><td>127.452</td></tr><tr><th>12</th><td>67.6233</td><td>114.143</td></tr><tr><th>13</th><td>68.3025</td><td>125.611</td></tr><tr><th>14</th><td>67.1166</td><td>122.462</td></tr><tr><th>15</th><td>68.2797</td><td>116.087</td></tr><tr><th>16</th><td>71.0916</td><td>139.997</td></tr><tr><th>17</th><td>66.461</td><td>129.502</td></tr><tr><th>18</th><td>68.6493</td><td>142.973</td></tr><tr><th>19</th><td>71.2303</td><td>137.902</td></tr><tr><th>20</th><td>67.1312</td><td>124.045</td></tr><tr><th>21</th><td>67.8338</td><td>141.281</td></tr><tr><th>22</th><td>68.8788</td><td>143.539</td></tr><tr><th>23</th><td>63.4812</td><td>97.9019</td></tr><tr><th>24</th><td>68.4219</td><td>129.503</td></tr><tr><th>25</th><td>67.628</td><td>141.85</td></tr><tr><th>26</th><td>67.2086</td><td>129.724</td></tr><tr><th>27</th><td>70.8424</td><td>142.424</td></tr><tr><th>28</th><td>67.4943</td><td>131.55</td></tr><tr><th>29</th><td>66.534</td><td>108.332</td></tr><tr><th>30</th><td>65.441</td><td>113.892</td></tr><tr><th>&vellip;</th><td>&vellip;</td><td>&vellip;</td></tr></tbody></table>"
      ],
      "text/latex": [
       "\\begin{tabular}{r|cc}\n",
       "\t& height & weight\\\\\n",
       "\t\\hline\n",
       "\t& Float64 & Float64\\\\\n",
       "\t\\hline\n",
       "\t1 & 65.7833 & 112.993 \\\\\n",
       "\t2 & 71.5152 & 136.487 \\\\\n",
       "\t3 & 69.3987 & 153.027 \\\\\n",
       "\t4 & 68.2166 & 142.335 \\\\\n",
       "\t5 & 67.7878 & 144.297 \\\\\n",
       "\t6 & 68.6978 & 123.302 \\\\\n",
       "\t7 & 69.802 & 141.495 \\\\\n",
       "\t8 & 70.0147 & 136.462 \\\\\n",
       "\t9 & 67.9027 & 112.372 \\\\\n",
       "\t10 & 66.7824 & 120.667 \\\\\n",
       "\t11 & 66.4877 & 127.452 \\\\\n",
       "\t12 & 67.6233 & 114.143 \\\\\n",
       "\t13 & 68.3025 & 125.611 \\\\\n",
       "\t14 & 67.1166 & 122.462 \\\\\n",
       "\t15 & 68.2797 & 116.087 \\\\\n",
       "\t16 & 71.0916 & 139.997 \\\\\n",
       "\t17 & 66.461 & 129.502 \\\\\n",
       "\t18 & 68.6493 & 142.973 \\\\\n",
       "\t19 & 71.2303 & 137.902 \\\\\n",
       "\t20 & 67.1312 & 124.045 \\\\\n",
       "\t21 & 67.8338 & 141.281 \\\\\n",
       "\t22 & 68.8788 & 143.539 \\\\\n",
       "\t23 & 63.4812 & 97.9019 \\\\\n",
       "\t24 & 68.4219 & 129.503 \\\\\n",
       "\t25 & 67.628 & 141.85 \\\\\n",
       "\t26 & 67.2086 & 129.724 \\\\\n",
       "\t27 & 70.8424 & 142.424 \\\\\n",
       "\t28 & 67.4943 & 131.55 \\\\\n",
       "\t29 & 66.534 & 108.332 \\\\\n",
       "\t30 & 65.441 & 113.892 \\\\\n",
       "\t$\\dots$ & $\\dots$ & $\\dots$ \\\\\n",
       "\\end{tabular}\n"
      ],
      "text/plain": [
       "\u001b[1m200×2 DataFrame\u001b[0m\n",
       "\u001b[1m Row \u001b[0m│\u001b[1m height  \u001b[0m\u001b[1m weight  \u001b[0m\n",
       "\u001b[1m     \u001b[0m│\u001b[90m Float64 \u001b[0m\u001b[90m Float64 \u001b[0m\n",
       "─────┼──────────────────\n",
       "   1 │ 65.7833  112.993\n",
       "   2 │ 71.5152  136.487\n",
       "   3 │ 69.3987  153.027\n",
       "   4 │ 68.2166  142.335\n",
       "   5 │ 67.7878  144.297\n",
       "   6 │ 68.6978  123.302\n",
       "   7 │ 69.802   141.495\n",
       "   8 │ 70.0147  136.462\n",
       "   9 │ 67.9027  112.372\n",
       "  10 │ 66.7824  120.667\n",
       "  11 │ 66.4877  127.452\n",
       "  ⋮  │    ⋮        ⋮\n",
       " 191 │ 70.1902  144.993\n",
       " 192 │ 65.5215  110.952\n",
       " 193 │ 67.4591  132.862\n",
       " 194 │ 67.4098  146.339\n",
       " 195 │ 69.6616  145.589\n",
       " 196 │ 65.798   120.843\n",
       " 197 │ 66.1056  115.781\n",
       " 198 │ 68.2399  128.302\n",
       " 199 │ 68.024   127.472\n",
       " 200 │ 71.3904  127.876\n",
       "\u001b[36m        179 rows omitted\u001b[0m"
      ]
     },
     "execution_count": 52,
     "metadata": {},
     "output_type": "execute_result"
    }
   ],
   "source": [
    "data = CSV.read(\"height_data.csv\", DataFrame)"
   ]
  },
  {
   "cell_type": "code",
   "execution_count": 60,
   "id": "quality-classics",
   "metadata": {},
   "outputs": [],
   "source": [
    "histogram(1:length(data.height), data.height, bins= :scott, title=\"Empirical Height Density\", label=\"height density\")\n",
    "savefig(\"./plots/height_density.png\")"
   ]
  },
  {
   "cell_type": "code",
   "execution_count": 62,
   "id": "coordinate-jacket",
   "metadata": {},
   "outputs": [],
   "source": [
    "histogram(1:length(data.weight), data.weight, bins=:scott, title=\"Empirical Weight Density\", label=\"weight density\")\n",
    "savefig(\"./plots/weight_density.png\")"
   ]
  },
  {
   "cell_type": "code",
   "execution_count": null,
   "id": "statutory-intersection",
   "metadata": {},
   "outputs": [],
   "source": []
  },
  {
   "cell_type": "code",
   "execution_count": null,
   "id": "proud-history",
   "metadata": {},
   "outputs": [],
   "source": []
  },
  {
   "cell_type": "code",
   "execution_count": null,
   "id": "understanding-penetration",
   "metadata": {},
   "outputs": [],
   "source": []
  },
  {
   "cell_type": "code",
   "execution_count": null,
   "id": "suspected-medium",
   "metadata": {},
   "outputs": [],
   "source": []
  },
  {
   "cell_type": "code",
   "execution_count": null,
   "id": "separated-destiny",
   "metadata": {},
   "outputs": [],
   "source": []
  },
  {
   "cell_type": "code",
   "execution_count": null,
   "id": "danish-wells",
   "metadata": {},
   "outputs": [],
   "source": []
  },
  {
   "cell_type": "code",
   "execution_count": null,
   "id": "sweet-motor",
   "metadata": {},
   "outputs": [],
   "source": []
  },
  {
   "cell_type": "code",
   "execution_count": null,
   "id": "warming-stations",
   "metadata": {},
   "outputs": [],
   "source": []
  }
 ],
 "metadata": {
  "kernelspec": {
   "display_name": "Julia 1.5.3",
   "language": "julia",
   "name": "julia-1.5"
  },
  "language_info": {
   "file_extension": ".jl",
   "mimetype": "application/julia",
   "name": "julia",
   "version": "1.5.3"
  }
 },
 "nbformat": 4,
 "nbformat_minor": 5
}
