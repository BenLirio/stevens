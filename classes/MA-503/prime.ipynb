{
 "cells": [
  {
   "cell_type": "code",
   "execution_count": 56,
   "id": "trained-blink",
   "metadata": {},
   "outputs": [
    {
     "ename": "LoadError",
     "evalue": "InterruptException:",
     "output_type": "error",
     "traceback": [
      "InterruptException:",
      "",
      "Stacktrace:",
      " [1] push! at ./array.jl:942 [inlined]",
      " [2] factorize(::Int64) at ./In[56]:26",
      " [3] top-level scope at In[56]:34"
     ]
    }
   ],
   "source": [
    "function d(x, y)\n",
    "    whole = x ÷ y\n",
    "    rem = x % y\n",
    "    if rem < 0\n",
    "        rem += y\n",
    "        whole -= 1\n",
    "    end\n",
    "    return (whole, rem)\n",
    "end\n",
    "function isPrime(x)\n",
    "    for i ∈ 2:(x-1)\n",
    "        if x % i == 0 return false end\n",
    "    end\n",
    "    return true\n",
    "end\n",
    "function gcd(a,b)\n",
    "    for i ∈ min(a,b):-1:1\n",
    "        if a % i == 0 && b % i == 0 return i end\n",
    "    end\n",
    "end\n",
    "function factorize(x)\n",
    "    factors = []\n",
    "    while x != 1\n",
    "        for i ∈ 1:x\n",
    "            if isPrime(i) && x % i == 0\n",
    "                push!(factors, i)\n",
    "                x = x/i\n",
    "                break\n",
    "            end\n",
    "        end\n",
    "    end\n",
    "    return factors\n",
    "end\n",
    "factorize(15)\n"
   ]
  }
 ],
 "metadata": {
  "kernelspec": {
   "display_name": "Julia 1.5.3",
   "language": "julia",
   "name": "julia-1.5"
  },
  "language_info": {
   "file_extension": ".jl",
   "mimetype": "application/julia",
   "name": "julia",
   "version": "1.5.3"
  }
 },
 "nbformat": 4,
 "nbformat_minor": 5
}
