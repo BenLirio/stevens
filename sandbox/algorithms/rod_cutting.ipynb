{
 "cells": [
  {
   "cell_type": "code",
   "execution_count": 1,
   "metadata": {},
   "outputs": [
    {
     "data": {
      "text/plain": [
       "Dict{Int64,Int64} with 10 entries:\n",
       "  7  => 17\n",
       "  4  => 9\n",
       "  9  => 24\n",
       "  10 => 30\n",
       "  2  => 5\n",
       "  3  => 8\n",
       "  5  => 10\n",
       "  8  => 20\n",
       "  6  => 17\n",
       "  1  => 1"
      ]
     },
     "execution_count": 1,
     "metadata": {},
     "output_type": "execute_result"
    }
   ],
   "source": [
    "costList = Dict(\n",
    "    1 => 1,\n",
    "    2 => 5,\n",
    "    3 => 8,\n",
    "    4 => 9,\n",
    "    5 => 10,\n",
    "    6 => 17,\n",
    "    7 => 17,\n",
    "    8 => 20,\n",
    "    9 => 24,\n",
    "    10 => 30\n",
    ")"
   ]
  },
  {
   "cell_type": "code",
   "execution_count": 70,
   "metadata": {},
   "outputs": [
    {
     "data": {
      "text/plain": [
       "3"
      ]
     },
     "execution_count": 70,
     "metadata": {},
     "output_type": "execute_result"
    }
   ],
   "source": [
    "\n",
    "a = Dict()\n",
    "a[2] = 3\n",
    "get!(a, 2, sleep(5))"
   ]
  },
  {
   "cell_type": "code",
   "execution_count": 88,
   "metadata": {},
   "outputs": [
    {
     "name": "stdout",
     "output_type": "stream",
     "text": [
      "1\t1\n",
      "2\t5\n",
      "3\t8\n",
      "4\t10\n",
      "5\t13\n",
      "6\t17\n",
      "7\t18\n",
      "8\t22\n",
      "9\t25\n",
      "10\t30\n",
      "11\t31\n",
      "12\t35\n",
      "13\t38\n",
      "14\t40\n",
      "15\t43\n",
      "16\t47\n",
      "17\t48\n",
      "18\t52\n",
      "19\t55\n",
      "20\t60\n",
      "21\t61\n",
      "22\t65\n",
      "23\t68\n",
      "24\t70\n",
      "25\t73\n",
      "26\t77\n",
      "27\t78\n",
      "28\t82\n",
      "29\t85\n",
      "30\t90\n",
      "31\t91\n",
      "32\t95\n",
      "33\t98\n",
      "34\t100\n",
      "35\t103\n",
      "36\t107\n",
      "37\t108\n",
      "38\t112\n",
      "39\t115\n",
      "40\t120\n",
      "41\t121\n",
      "42\t125\n",
      "43\t128\n",
      "44\t130\n",
      "45\t133\n",
      "46\t137\n",
      "47\t138\n",
      "48\t142\n",
      "49\t145\n",
      "50\t150\n",
      "51\t151\n",
      "52\t155\n",
      "53\t158\n",
      "54\t160\n",
      "55\t163\n",
      "56\t167\n",
      "57\t168\n",
      "58\t172\n",
      "59\t175\n",
      "60\t180\n",
      "61\t181\n",
      "62\t185\n",
      "63\t188\n",
      "64\t190\n",
      "65\t193\n",
      "66\t197\n",
      "67\t198\n",
      "68\t202\n",
      "69\t205\n",
      "70\t210\n",
      "71\t211\n",
      "72\t215\n",
      "73\t218\n",
      "74\t220\n",
      "75\t223\n",
      "76\t227\n",
      "77\t228\n",
      "78\t232\n",
      "79\t235\n",
      "80\t240\n",
      "81\t241\n",
      "82\t245\n",
      "83\t248\n",
      "84\t250\n",
      "85\t253\n",
      "86\t257\n",
      "87\t258\n",
      "88\t262\n",
      "89\t265\n",
      "90\t270\n",
      "91\t271\n",
      "92\t275\n",
      "93\t278\n",
      "94\t280\n",
      "95\t283\n",
      "96\t287\n",
      "97\t288\n",
      "98\t292\n",
      "99\t295\n",
      "100\t300\n"
     ]
    }
   ],
   "source": [
    "mem = Dict()\n",
    "function bestPrice(size)\n",
    "    if size == 0 return 0 end\n",
    "    best = 0\n",
    "    for i ∈ 1:(size-1)\n",
    "        one = 0\n",
    "        if haskey(mem, i)\n",
    "            one = mem[i]\n",
    "        else\n",
    "            one = bestPrice(i)\n",
    "            mem[i] = one\n",
    "        end\n",
    "        two = 0\n",
    "        if haskey(mem, size-i)\n",
    "            two = mem[size-i]\n",
    "        else\n",
    "            two = bestPrice(size-i)\n",
    "            mem[size-i] = two\n",
    "        end\n",
    "        best = max(best, one + two)\n",
    "    end\n",
    "    best = max(best, get(costList, size, 0))\n",
    "    return best\n",
    "end\n",
    "\n",
    "for i ∈ 1:100\n",
    "    mem = Dict()\n",
    "    println(string(i)*\"\\t\"*string(bestPrice(i)))\n",
    "end"
   ]
  },
  {
   "cell_type": "code",
   "execution_count": 101,
   "metadata": {},
   "outputs": [
    {
     "data": {
      "text/plain": [
       "301"
      ]
     },
     "execution_count": 101,
     "metadata": {},
     "output_type": "execute_result"
    }
   ],
   "source": [
    "costList = Dict(\n",
    "    1 => 1,\n",
    "    2 => 5,\n",
    "    3 => 8,\n",
    "    4 => 9,\n",
    "    5 => 10,\n",
    "    6 => 17,\n",
    "    7 => 17,\n",
    "    8 => 20,\n",
    "    9 => 24,\n",
    "    10 => 30\n",
    ")\n",
    "function cutRod(size)\n",
    "    mem = Dict()\n",
    "    mem[0] = 0\n",
    "    for i ∈ 1:size\n",
    "        best = get(costList, i, 0)\n",
    "        for j ∈ 1:(i-1)\n",
    "            best = max(best, mem[j] + mem[i-j])\n",
    "        end\n",
    "        mem[i] = best\n",
    "    end\n",
    "    return mem[size]\n",
    "end\n",
    "cutRod(101)\n"
   ]
  },
  {
   "cell_type": "code",
   "execution_count": 158,
   "metadata": {},
   "outputs": [
    {
     "data": {
      "text/plain": [
       "48"
      ]
     },
     "execution_count": 158,
     "metadata": {},
     "output_type": "execute_result"
    }
   ],
   "source": [
    "function matrixMultiply(A,B)\n",
    "    Arows, Acolumns = size(A)\n",
    "    Brows, Bcolumns = size(B)\n",
    "    cost = 0\n",
    "    if Acolumns != Brows throw(\"A.columns must bet equal to B.rows\") end\n",
    "    C = fill(0, Arows, Bcolumns)\n",
    "    Crows, Ccolumns = size(C)\n",
    "    for row ∈ 1:Crows\n",
    "        for column ∈ 1:Ccolumns\n",
    "            C[row,column] = 0\n",
    "            for i ∈ 1:Acolumns\n",
    "                cost += 1\n",
    "                C[row,column] += A[row,i] * B[i,column]\n",
    "            end\n",
    "            \n",
    "        end\n",
    "    end\n",
    "    return cost\n",
    "end\n",
    "\n",
    "A = Array{Int64, 2}(undef, 6, 4)\n",
    "fill!(A, 1)\n",
    "B = Array{Int64, 2}(undef, 4, 2)\n",
    "fill!(B, 1)\n",
    "C = matrixMultiply(A,B)\n",
    "C"
   ]
  },
  {
   "cell_type": "code",
   "execution_count": 240,
   "metadata": {},
   "outputs": [
    {
     "data": {
      "text/plain": [
       "28"
      ]
     },
     "execution_count": 240,
     "metadata": {},
     "output_type": "execute_result"
    }
   ],
   "source": [
    "canMultiply(A,B) = if A[2] != B[1] throw(\"Matricies should be valid\") end\n",
    "∞ = 999999999999\n",
    "function multiplicationCost(A, B)\n",
    "    return A[1] * B[2] * A[2]\n",
    "end\n",
    "\n",
    "function resultDims(A, B)\n",
    "    return (A[1], B[2])\n",
    "end\n",
    "\n",
    "function totalCost(matrices)\n",
    "    isValid = true\n",
    "    for i ∈ 1:(length(matrices)-1)\n",
    "        canMultiply(matrices[i], matrices[i+1])\n",
    "    end\n",
    "    minCost = ∞\n",
    "    if length(matrices) == 2\n",
    "        A = matrices[1]\n",
    "        B = matrices[2]\n",
    "        return multiplicationCost(A,B)\n",
    "    end\n",
    "    for i ∈ 1:(length(matrices)-1)\n",
    "        A = matrices[i]\n",
    "        B = matrices[i+1]\n",
    "        dims = resultDims(A,B)\n",
    "        cost = multiplicationCost(A,B)\n",
    "        matrices′ = vcat(matrices[1:(i-1)], [dims], matrices[(i+2):length(matrices)])\n",
    "        cost += totalCost(matrices′)\n",
    "        minCost = min(minCost, cost)\n",
    "    end\n",
    "    return minCost\n",
    "end\n",
    "A = (4,2)\n",
    "B = (2,10)\n",
    "C = (10,1)\n",
    "totalCost([A,B,C])"
   ]
  },
  {
   "cell_type": "code",
   "execution_count": 175,
   "metadata": {},
   "outputs": [
    {
     "data": {
      "text/plain": [
       "4"
      ]
     },
     "execution_count": 175,
     "metadata": {},
     "output_type": "execute_result"
    }
   ],
   "source": [
    "(4,3)[1]"
   ]
  },
  {
   "cell_type": "code",
   "execution_count": 226,
   "metadata": {},
   "outputs": [
    {
     "data": {
      "text/plain": [
       "Int64[]"
      ]
     },
     "execution_count": 226,
     "metadata": {},
     "output_type": "execute_result"
    }
   ],
   "source": [
    "a = [1,2,3,4,5]\n",
    "a[10:5]"
   ]
  },
  {
   "cell_type": "code",
   "execution_count": null,
   "metadata": {},
   "outputs": [],
   "source": []
  },
  {
   "cell_type": "code",
   "execution_count": null,
   "metadata": {},
   "outputs": [],
   "source": []
  },
  {
   "cell_type": "code",
   "execution_count": null,
   "metadata": {},
   "outputs": [],
   "source": []
  },
  {
   "cell_type": "code",
   "execution_count": null,
   "metadata": {},
   "outputs": [],
   "source": []
  },
  {
   "cell_type": "code",
   "execution_count": null,
   "metadata": {},
   "outputs": [],
   "source": []
  },
  {
   "cell_type": "code",
   "execution_count": null,
   "metadata": {},
   "outputs": [],
   "source": []
  }
 ],
 "metadata": {
  "kernelspec": {
   "display_name": "Julia 1.5.3",
   "language": "julia",
   "name": "julia-1.5"
  },
  "language_info": {
   "file_extension": ".jl",
   "mimetype": "application/julia",
   "name": "julia",
   "version": "1.5.3"
  }
 },
 "nbformat": 4,
 "nbformat_minor": 4
}
