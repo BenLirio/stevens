{
 "cells": [
  {
   "cell_type": "code",
   "execution_count": 42,
   "metadata": {},
   "outputs": [
    {
     "data": {
      "text/plain": [
       "getElements (generic function with 1 method)"
      ]
     },
     "execution_count": 42,
     "metadata": {},
     "output_type": "execute_result"
    }
   ],
   "source": [
    "getElements() = [7,2,8,3,0,1,6,4,9,5]"
   ]
  },
  {
   "cell_type": "code",
   "execution_count": 17,
   "metadata": {},
   "outputs": [
    {
     "name": "stdout",
     "output_type": "stream",
     "text": [
      "[0, 1, 2, 3, 4, 6, 7, 8, 9]\n"
     ]
    }
   ],
   "source": [
    "elements = getElements()\n",
    "for (index, element) in enumerate(elements)\n",
    "    cur = index\n",
    "    while true\n",
    "        if index == 1 break end\n",
    "        if elements[index] < elements[index-1]\n",
    "            elements[index-1], elements[index] = elements[index], elements[index-1]\n",
    "        end\n",
    "        index -= 1\n",
    "    end\n",
    "end\n",
    "println(elements)"
   ]
  },
  {
   "cell_type": "code",
   "execution_count": 7,
   "metadata": {},
   "outputs": [
    {
     "data": {
      "text/plain": [
       "9-element Array{Any,1}:\n",
       " 0\n",
       " 1\n",
       " 2\n",
       " 3\n",
       " 4\n",
       " 6\n",
       " 7\n",
       " 8\n",
       " 9"
      ]
     },
     "execution_count": 7,
     "metadata": {},
     "output_type": "execute_result"
    }
   ],
   "source": [
    "elements = getElements()\n",
    "\n",
    "function merge(A, B)\n",
    "    sorted = []\n",
    "    Aval = length(A) == 0 ? nothing : popfirst!(A)\n",
    "    Bval = length(B) == 0 ? nothing : popfirst!(B)\n",
    "    ADone = Aval == nothing ? true : false\n",
    "    BDone = Bval == nothing ? true : false\n",
    "    while !ADone || !BDone\n",
    "        if BDone || (Aval != nothing && Aval < Bval)\n",
    "            push!(sorted, Aval)\n",
    "            Aval = length(A) != 0 ? popfirst!(A) : nothing\n",
    "            ADone = Aval == nothing ? true : false\n",
    "        else\n",
    "            push!(sorted, Bval)\n",
    "            Bval = length(B) != 0 ? popfirst!(B) : nothing\n",
    "            BDone = Bval == nothing ? true : false\n",
    "            continue\n",
    "        end\n",
    "    end\n",
    "    return sorted\n",
    "end\n",
    "\n",
    "function mergeSort(elements)::Array{Any}\n",
    "    if length(elements) == 1\n",
    "        return elements\n",
    "    end\n",
    "    mid::Int = floor(length(elements)/2)\n",
    "    lowerIndex = 1:mid\n",
    "    upperIndex = (mid+1):length(elements)\n",
    "    left = mergeSort(elements[lowerIndex])\n",
    "    right = mergeSort(elements[upperIndex])\n",
    "    sorted = merge(left, right)\n",
    "    return sorted\n",
    "end\n",
    "mergeSort(elements)"
   ]
  },
  {
   "cell_type": "code",
   "execution_count": 34,
   "metadata": {},
   "outputs": [
    {
     "data": {
      "text/plain": [
       "9-element Array{Any,1}:\n",
       " 0\n",
       " 1\n",
       " 2\n",
       " 3\n",
       " 4\n",
       " 6\n",
       " 7\n",
       " 8\n",
       " 9"
      ]
     },
     "execution_count": 34,
     "metadata": {},
     "output_type": "execute_result"
    }
   ],
   "source": [
    "function swap(elements, a, b)\n",
    "    elements[a], elements[b] = elements[b], elements[a]\n",
    "end\n",
    "\n",
    "function parent(i)\n",
    "    return Int(floor(i/2))\n",
    "end\n",
    "\n",
    "function left(i)\n",
    "    return i*2\n",
    "end\n",
    "function right(i)\n",
    "    return i*2 + 1\n",
    "end\n",
    "\n",
    "function minHeapify(elements, i)\n",
    "    smallest = i\n",
    "    if left(i) <= length(elements) && elements[left(i)] < elements[smallest]\n",
    "        smallest = left(i)\n",
    "    end\n",
    "    if right(i) <= length(elements) && elements[right(i)] < elements[smallest]\n",
    "        smallest = right(i)\n",
    "    end\n",
    "    if smallest == i return end\n",
    "    swap(elements, i, smallest)\n",
    "    minHeapify(elements, smallest)\n",
    "end\n",
    "\n",
    "function createMinHeap(elements)\n",
    "    mid = Int(floor(length(elements)/2))\n",
    "    for i in mid:-1:1\n",
    "        minHeapify(elements, i)\n",
    "    end\n",
    "end\n",
    "\n",
    "function heapPop(elements)\n",
    "    idx = 1\n",
    "    item, elements[idx] = elements[idx], 999999\n",
    "    minHeapify(elements, idx)\n",
    "    return item\n",
    "end\n",
    "\n",
    "function heapSort(elements)\n",
    "    heap = createMinHeap(elements)\n",
    "    sorted = []\n",
    "    for i in 1:length(elements)\n",
    "        push!(sorted, heapPop(elements))\n",
    "    end\n",
    "    return sorted\n",
    "end\n",
    "\n",
    "elements = getElements()\n",
    "heapSort(elements)"
   ]
  },
  {
   "cell_type": "code",
   "execution_count": 49,
   "metadata": {},
   "outputs": [
    {
     "data": {
      "text/plain": [
       "10-element Array{Int64,1}:\n",
       " 9\n",
       " 8\n",
       " 7\n",
       " 6\n",
       " 5\n",
       " 4\n",
       " 3\n",
       " 2\n",
       " 1\n",
       " 0"
      ]
     },
     "execution_count": 49,
     "metadata": {},
     "output_type": "execute_result"
    }
   ],
   "source": [
    "function integerSort(elements)\n",
    "    C = Array{Int, 1}(undef, length(elements))\n",
    "    for (i, element) in enumerate(elements)\n",
    "        smallerThan = 0\n",
    "        for (i′, element′) in enumerate(elements)\n",
    "            if element <= element′\n",
    "                smallerThan += 1\n",
    "            end\n",
    "        end\n",
    "        C[smallerThan] = element\n",
    "            \n",
    "    end\n",
    "    return C\n",
    "end\n",
    "elements = getElements()\n",
    "integerSort(elements)"
   ]
  },
  {
   "cell_type": "code",
   "execution_count": null,
   "metadata": {},
   "outputs": [],
   "source": []
  },
  {
   "cell_type": "code",
   "execution_count": null,
   "metadata": {},
   "outputs": [],
   "source": []
  },
  {
   "cell_type": "code",
   "execution_count": null,
   "metadata": {},
   "outputs": [],
   "source": []
  },
  {
   "cell_type": "code",
   "execution_count": null,
   "metadata": {},
   "outputs": [],
   "source": []
  },
  {
   "cell_type": "code",
   "execution_count": null,
   "metadata": {},
   "outputs": [],
   "source": []
  }
 ],
 "metadata": {
  "kernelspec": {
   "display_name": "Julia 1.5.3",
   "language": "julia",
   "name": "julia-1.5"
  },
  "language_info": {
   "file_extension": ".jl",
   "mimetype": "application/julia",
   "name": "julia",
   "version": "1.5.3"
  }
 },
 "nbformat": 4,
 "nbformat_minor": 4
}
