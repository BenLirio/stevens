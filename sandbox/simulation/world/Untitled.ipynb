{
 "cells": [
  {
   "cell_type": "code",
   "execution_count": 15,
   "metadata": {},
   "outputs": [],
   "source": [
    "mutable struct Node\n",
    "    left::Union{Nothing, Node}\n",
    "    right::Union{Nothing, Node}\n",
    "    id\n",
    "    function Node(id)\n",
    "        x = new()\n",
    "        x.left = nothing\n",
    "        x.right = nothing\n",
    "        x.id = id\n",
    "        return x\n",
    "    end\n",
    "end"
   ]
  },
  {
   "cell_type": "code",
   "execution_count": 44,
   "metadata": {},
   "outputs": [
    {
     "ename": "LoadError",
     "evalue": "StackOverflowError:",
     "output_type": "error",
     "traceback": [
      "StackOverflowError:",
      "",
      "Stacktrace:",
      " [1] sort!(::Array{Any,1}, ::Int64, ::Int64, ::Base.Sort.InsertionSortAlg, ::Base.Order.ForwardOrdering) at ./sort.jl:493",
      " [2] sort!(::Array{Any,1}, ::Int64, ::Int64, ::Base.Sort.MergeSortAlg, ::Base.Order.ForwardOrdering, ::Array{Any,1}) at ./sort.jl:583",
      " [3] sort! at ./sort.jl:582 [inlined]",
      " [4] sort! at ./sort.jl:673 [inlined]",
      " [5] #sort!#7 at ./sort.jl:733 [inlined]",
      " [6] sort! at ./sort.jl:721 [inlined]",
      " [7] #sort#8 at ./sort.jl:780 [inlined]",
      " [8] sort at ./sort.jl:780 [inlined]",
      " [9] median(::Array{Any,1}) at ./In[44]:2",
      " [10] kdTree(::Array{Any,1}) at ./In[44]:13",
      " [11] kdTree(::Array{Any,1}) at ./In[44]:23 (repeats 18556 times)",
      " [12] top-level scope at In[44]:25",
      " [13] include_string(::Function, ::Module, ::String, ::String) at ./loading.jl:1091"
     ]
    }
   ],
   "source": [
    "function median(A)\n",
    "    A = sort(A)\n",
    "    return A[Int(ceil(length(A)/2))]\n",
    "end\n",
    "\n",
    "function kdTree(A)\n",
    "    if length(A) == 0\n",
    "        return nothing\n",
    "    end\n",
    "    if length(A) == 1\n",
    "        return Node(nothing, nothing, A[1])\n",
    "    end\n",
    "    split = median(A)\n",
    "    left = []\n",
    "    right = []\n",
    "    for a ∈ A\n",
    "        if a <= split\n",
    "            push!(left, a)\n",
    "        else\n",
    "            push!(right, a)\n",
    "        end\n",
    "    end\n",
    "    Node(kdTree(left), kdTree(right), split)\n",
    "end\n",
    "kdTree([1,1,1,99,99,99])"
   ]
  }
 ],
 "metadata": {
  "kernelspec": {
   "display_name": "Julia 1.5.3",
   "language": "julia",
   "name": "julia-1.5"
  },
  "language_info": {
   "file_extension": ".jl",
   "mimetype": "application/julia",
   "name": "julia",
   "version": "1.5.3"
  }
 },
 "nbformat": 4,
 "nbformat_minor": 4
}
