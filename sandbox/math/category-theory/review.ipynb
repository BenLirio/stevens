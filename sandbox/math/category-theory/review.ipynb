{
 "cells": [
  {
   "cell_type": "code",
   "execution_count": 25,
   "metadata": {},
   "outputs": [
    {
     "data": {
      "text/plain": [
       "Ω (generic function with 1 method)"
      ]
     },
     "execution_count": 25,
     "metadata": {},
     "output_type": "execute_result"
    }
   ],
   "source": [
    "function disjoint(P::Partition)\n",
    "    for p in P.data\n",
    "        for p′ in P.data\n",
    "            if p == p′ continue end\n",
    "            if length(p ∩ p′) != 0 return false end\n",
    "        end\n",
    "    end\n",
    "    return true\n",
    "end\n",
    "\n",
    "struct Partition\n",
    "    data::Set{Set}\n",
    "    function Partition(A::Array)\n",
    "        P = new(Set([Set(a) for a in A ]))\n",
    "        if disjoint(P) == false return error(\"Must be disjoint\") end\n",
    "        return P\n",
    "    end\n",
    "end\n",
    "\n",
    "Ω(P::Partition) = reduce(∪, P.data)"
   ]
  },
  {
   "cell_type": "code",
   "execution_count": 189,
   "metadata": {},
   "outputs": [
    {
     "data": {
      "text/plain": [
       "<= (generic function with 57 methods)"
      ]
     },
     "execution_count": 189,
     "metadata": {},
     "output_type": "execute_result"
    }
   ],
   "source": [
    "import Base.≤\n",
    "\n",
    "function ≤(P::Partition, P′::Partition)\n",
    "    for p in P.data\n",
    "        hasSubset = false\n",
    "        for p′ in P′.data\n",
    "            if p ⊆ p′ hasSubset = true end\n",
    "        end\n",
    "        if hasSubset == false\n",
    "            return false\n",
    "        end\n",
    "    end\n",
    "    return true\n",
    "end"
   ]
  },
  {
   "cell_type": "code",
   "execution_count": 190,
   "metadata": {},
   "outputs": [
    {
     "data": {
      "text/plain": [
       "8-element Array{Partition,1}:\n",
       " Partition(Set{Set}())\n",
       " Partition(Set(Set[Set([1])]))\n",
       " Partition(Set(Set[Set([2])]))\n",
       " Partition(Set(Set[Set([1]), Set([2])]))\n",
       " Partition(Set(Set[Set([3])]))\n",
       " Partition(Set(Set[Set([3]), Set([1])]))\n",
       " Partition(Set(Set[Set([3]), Set([2])]))\n",
       " Partition(Set(Set[Set([3]), Set([1]), Set([2])]))"
      ]
     },
     "execution_count": 190,
     "metadata": {},
     "output_type": "execute_result"
    }
   ],
   "source": [
    "function PowerSet(values::Array)\n",
    "    powerSets = Array([Partition([])])\n",
    "    for value in values\n",
    "        for powerSet in deepcopy(powerSets)\n",
    "            push!(powerSet.data, Set([value]))\n",
    "            push!(powerSets, powerSet)\n",
    "        end\n",
    "    end\n",
    "    return powerSets\n",
    "end\n",
    "PowerSet([1,2,3])"
   ]
  },
  {
   "cell_type": "code",
   "execution_count": 194,
   "metadata": {},
   "outputs": [
    {
     "data": {
      "text/plain": [
       "8-element Array{Partition,1}:\n",
       " Partition(Set{Set}())\n",
       " Partition(Set(Set[Set([1])]))\n",
       " Partition(Set(Set[Set([2])]))\n",
       " Partition(Set(Set[Set([1]), Set([2])]))\n",
       " Partition(Set(Set[Set([3])]))\n",
       " Partition(Set(Set[Set([3]), Set([1])]))\n",
       " Partition(Set(Set[Set([3]), Set([2])]))\n",
       " Partition(Set(Set[Set([3]), Set([1]), Set([2])]))"
      ]
     },
     "execution_count": 194,
     "metadata": {},
     "output_type": "execute_result"
    }
   ],
   "source": [
    "function SortPartitions(partitions::Array{Partition, 1})::Array{Partition, 1}\n",
    "    return sort(partitions, lt=≤)\n",
    "end\n",
    "SortPartitions(PowerSet([1,2,3]))"
   ]
  },
  {
   "cell_type": "code",
   "execution_count": null,
   "metadata": {},
   "outputs": [],
   "source": [
    "function CreateMonoid"
   ]
  }
 ],
 "metadata": {
  "kernelspec": {
   "display_name": "Julia 1.5.3",
   "language": "julia",
   "name": "julia-1.5"
  },
  "language_info": {
   "file_extension": ".jl",
   "mimetype": "application/julia",
   "name": "julia",
   "version": "1.5.3"
  }
 },
 "nbformat": 4,
 "nbformat_minor": 4
}
