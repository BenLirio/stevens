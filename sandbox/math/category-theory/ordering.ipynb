{
 "cells": [
  {
   "cell_type": "code",
   "execution_count": 145,
   "metadata": {},
   "outputs": [
    {
     "name": "stdout",
     "output_type": "stream",
     "text": [
      "[:A, :B]\n",
      "[:A, :B]\n",
      "[:A, :B]\n",
      "A\n",
      "B\n"
     ]
    }
   ],
   "source": [
    "baseCategory = Dict(\n",
    "    :A => Set([:A]),\n",
    "    :B => Set([:B]),\n",
    "    :C => Set([:C])\n",
    ")\n",
    "abCategory = Dict(\n",
    "    :A => Set([:A, :B]),\n",
    "    :B => Set([:B, :A]),\n",
    "    :C => Set([:C])\n",
    ")\n",
    "bcCategory = Dict(\n",
    "    :A => Set([:A]),\n",
    "    :B => Set([:B, :C]),\n",
    "    :C => Set([:C, :B])\n",
    ")\n",
    "\n",
    "que = collect(baseCategory[:A] ∪ abCategory[:A])\n",
    "visited = Dict(:A => true)\n",
    "\n",
    "while length(que) !== 0\n",
    "    key = popfirst!(que)\n",
    "    keys = collect(baseCategory[key] ∪ abCategory[key])\n",
    "    for edgeKey in keys\n",
    "        if get(visited, edgeKey, false) == false\n",
    "            visited[edgeKey] = true\n",
    "            push!(que, edgeKey)\n",
    "        end\n",
    "    end\n",
    "end\n",
    "for key in keys(visited)\n",
    "    println(key)\n",
    "end"
   ]
  }
 ],
 "metadata": {
  "kernelspec": {
   "display_name": "Julia 1.5.3",
   "language": "julia",
   "name": "julia-1.5"
  },
  "language_info": {
   "file_extension": ".jl",
   "mimetype": "application/julia",
   "name": "julia",
   "version": "1.5.3"
  }
 },
 "nbformat": 4,
 "nbformat_minor": 4
}
