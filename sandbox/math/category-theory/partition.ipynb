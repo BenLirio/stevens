{
 "cells": [
  {
   "cell_type": "code",
   "execution_count": 135,
   "metadata": {},
   "outputs": [
    {
     "data": {
      "text/plain": [
       "false"
      ]
     },
     "execution_count": 135,
     "metadata": {},
     "output_type": "execute_result"
    }
   ],
   "source": [
    "import Base.≤\n",
    "isIsomorphic(A::Set, B::Set) = reduce(∪, A) == reduce(∪, B)\n",
    "function isDisjoint(A::Set)::Bool\n",
    "    for a1::Set in A\n",
    "        for a2::Set in A\n",
    "            if a1 == a2 continue end\n",
    "            if length(a1 ∩ a2) != 0 return false end\n",
    "        end\n",
    "    end\n",
    "    return true\n",
    "end\n",
    "\n",
    "function ≤(A::Set, B::Set)::Bool\n",
    "    if isIsomorphic(A, B) == false return false end\n",
    "    if isDisjoint(A) == false return false end\n",
    "    if isDisjoint(B) == false return false end\n",
    "    for b in B\n",
    "        has = false\n",
    "        for a in A if b ⊆ a has = true end end\n",
    "        if has == false return false end\n",
    "    end\n",
    "    return true\n",
    "end\n",
    "s1 = Set([Set([1]), Set([2,3])])\n",
    "s2 = Set([Set([1]), Set([2]), Set([3])])\n",
    "s2 ≤ s1"
   ]
  },
  {
   "cell_type": "code",
   "execution_count": 129,
   "metadata": {},
   "outputs": [],
   "source": [
    "A = Set([\n",
    "        Set([1,2,3]),\n",
    "        Set([4,5])\n",
    "        ])\n",
    "subset = Set([1,2])\n",
    "has = false\n",
    "for a in A if subset ⊆ a has = true end end"
   ]
  }
 ],
 "metadata": {
  "kernelspec": {
   "display_name": "Julia 1.5.3",
   "language": "julia",
   "name": "julia-1.5"
  },
  "language_info": {
   "file_extension": ".jl",
   "mimetype": "application/julia",
   "name": "julia",
   "version": "1.5.3"
  }
 },
 "nbformat": 4,
 "nbformat_minor": 4
}
