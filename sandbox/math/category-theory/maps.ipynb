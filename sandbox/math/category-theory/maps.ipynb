{
 "cells": [
  {
   "cell_type": "code",
   "execution_count": 3,
   "metadata": {},
   "outputs": [],
   "source": [
    "struct Longitude\n",
    "    val::Float64\n",
    "end\n",
    "struct Latitude\n",
    "    val::Float64\n",
    "end"
   ]
  },
  {
   "cell_type": "code",
   "execution_count": 5,
   "metadata": {
    "collapsed": true
   },
   "outputs": [],
   "source": [
    "struct Location\n",
    "    longitude::Longitude\n",
    "    latitude::Latitude\n",
    "end"
   ]
  },
  {
   "cell_type": "code",
   "execution_count": 11,
   "metadata": {},
   "outputs": [
    {
     "data": {
      "text/plain": [
       "2-element Array{Location,1}:\n",
       " Location(Longitude(1.0), Latitude(2.0))\n",
       " Location(Longitude(2.0), Latitude(4.0))"
      ]
     },
     "execution_count": 11,
     "metadata": {},
     "output_type": "execute_result"
    }
   ],
   "source": [
    "data = [\n",
    "    Location(\n",
    "        Longitude(1),\n",
    "        Latitude(2)\n",
    "    ),\n",
    "    Location(\n",
    "        Longitude(2),\n",
    "        Latitude(4)\n",
    "    )\n",
    "]"
   ]
  },
  {
   "cell_type": "code",
   "execution_count": 27,
   "metadata": {},
   "outputs": [
    {
     "data": {
      "text/plain": [
       "query (generic function with 1 method)"
      ]
     },
     "execution_count": 27,
     "metadata": {},
     "output_type": "execute_result"
    }
   ],
   "source": [
    "function distance(location1::Location, location2::Location)\n",
    "    Δlongitude = abs(location1.longitude.val - location2.longitude.val)\n",
    "    Δlatitude = abs(location1.latitude.val - location2.latitude.val)\n",
    "    return Δlongitude + Δlatitude\n",
    "end\n",
    "\n",
    "function query(queryLocation::Location)\n",
    "    minError = 9999999\n",
    "    rtnLocation = nothing\n",
    "    for location in data\n",
    "        error = distance(location, queryLocation)\n",
    "        if error < minError\n",
    "            rtnLocation = location\n",
    "            minError = error\n",
    "        end\n",
    "    end\n",
    "    return rtnLocation\n",
    "end"
   ]
  },
  {
   "cell_type": "code",
   "execution_count": 32,
   "metadata": {},
   "outputs": [
    {
     "data": {
      "text/plain": [
       "Location(Longitude(1.0), Latitude(2.0))"
      ]
     },
     "execution_count": 32,
     "metadata": {},
     "output_type": "execute_result"
    }
   ],
   "source": [
    "query(Location(Longitude(2), Latitude(1)))"
   ]
  },
  {
   "cell_type": "code",
   "execution_count": null,
   "metadata": {},
   "outputs": [],
   "source": []
  }
 ],
 "metadata": {
  "kernelspec": {
   "display_name": "Julia 1.5.3",
   "language": "julia",
   "name": "julia-1.5"
  },
  "language_info": {
   "file_extension": ".jl",
   "mimetype": "application/julia",
   "name": "julia",
   "version": "1.5.3"
  }
 },
 "nbformat": 4,
 "nbformat_minor": 4
}
