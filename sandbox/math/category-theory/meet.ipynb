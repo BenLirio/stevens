{
 "cells": [
  {
   "cell_type": "code",
   "execution_count": 8,
   "metadata": {},
   "outputs": [
    {
     "data": {
      "text/plain": [
       "Set{Set{Int64}} with 4 elements:\n",
       "  Set([4, 1])\n",
       "  Set([3])\n",
       "  Set{Int64}()\n",
       "  Set([2])"
      ]
     },
     "execution_count": 8,
     "metadata": {},
     "output_type": "execute_result"
    }
   ],
   "source": [
    "A = Set([\n",
    "        Set([1, 3, 4]),\n",
    "        Set([2])\n",
    "        ])\n",
    "B = Set([\n",
    "        Set([1, 2, 4]),\n",
    "        Set([3])\n",
    "        ])\n",
    "function ⊗(A::Set, B::Set)\n",
    "    relation = Set([])\n",
    "    for a in A\n",
    "        for b in B\n",
    "            push!(relation, a ∩ b)\n",
    "        end\n",
    "    end\n",
    "    return relation\n",
    "end\n",
    "meet(A::Set, B::Set) = Set([A ⊗ B...])\n",
    "meet(A, B)"
   ]
  },
  {
   "cell_type": "code",
   "execution_count": null,
   "metadata": {},
   "outputs": [],
   "source": []
  }
 ],
 "metadata": {
  "kernelspec": {
   "display_name": "Julia 1.5.3",
   "language": "julia",
   "name": "julia-1.5"
  },
  "language_info": {
   "file_extension": ".jl",
   "mimetype": "application/julia",
   "name": "julia",
   "version": "1.5.3"
  }
 },
 "nbformat": 4,
 "nbformat_minor": 4
}
