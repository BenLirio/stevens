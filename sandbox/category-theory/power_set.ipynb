{
 "cells": [
  {
   "cell_type": "code",
   "execution_count": 142,
   "metadata": {},
   "outputs": [
    {
     "data": {
      "text/plain": [
       "generatePowerSetsRecursive (generic function with 1 method)"
      ]
     },
     "execution_count": 142,
     "metadata": {},
     "output_type": "execute_result"
    }
   ],
   "source": [
    "function generatePowerSetsRecursive(s::Set)\n",
    "    if length(s) == 0\n",
    "        return Set([Set([])])\n",
    "    end\n",
    "    val = pop!(s)\n",
    "    powerSets = generatePowerSet(s)\n",
    "    rtnSets = Set([])\n",
    "    for powerSet in powerSets\n",
    "        push!(rtnSets, powerSet)\n",
    "        newSet = copy(powerSet)\n",
    "        push!(newSet, val)\n",
    "        push!(rtnSets, newSet)\n",
    "    end\n",
    "    return rtnSets\n",
    "end"
   ]
  },
  {
   "cell_type": "code",
   "execution_count": 186,
   "metadata": {},
   "outputs": [
    {
     "data": {
      "text/plain": [
       "Set{Set{Any}} with 8 elements:\n",
       "  Set(Any[4, 2, 3, 1])\n",
       "  Set(Any[4, 2, 3, 1])\n",
       "  Set(Any[3, 1])\n",
       "  Set(Any[4, 2, 3, 1])\n",
       "  Set(Any[2, 3, 1])\n",
       "  Set(Any[2, 3, 1])\n",
       "  Set(Any[1])\n",
       "  Set(Any[4, 2, 3, 1])"
      ]
     },
     "execution_count": 186,
     "metadata": {},
     "output_type": "execute_result"
    }
   ],
   "source": [
    "function generatePowerSetsIter(s::Set)\n",
    "    powerSet = Set([Set([])])\n",
    "    for item in s\n",
    "        for set in copy(powerSet)\n",
    "            push!(set, item)\n",
    "            push!(powerSet, set)\n",
    "        end\n",
    "        push!(powerSet, Set([item]))\n",
    "    end\n",
    "    return powerSet\n",
    "end\n",
    "s = Set([1,2,3,4])\n",
    "generatePowerSetsIter(s)"
   ]
  },
  {
   "cell_type": "code",
   "execution_count": 189,
   "metadata": {},
   "outputs": [
    {
     "name": "stdout",
     "output_type": "stream",
     "text": [
      "Set length 2\n",
      "Iterative:   0.000019 seconds (68 allocations: 4.609 KiB)\n",
      "Set length 4\n",
      "Iterative:   0.000052 seconds (202 allocations: 9.297 KiB)\n",
      "Set length 8\n",
      "Iterative:   0.000180 seconds (1.35 k allocations: 34.516 KiB)\n",
      "Set length 16\n",
      "Iterative:   0.000769 seconds (17.66 k allocations: 340.156 KiB)\n",
      "Set length 32\n",
      "Iterative:   0.006503 seconds (207.96 k allocations: 3.626 MiB)\n",
      "Set length 64\n",
      "Iterative:   0.091447 seconds (3.00 M allocations: 47.519 MiB)\n",
      "Set length 128\n",
      "Iterative:   1.547298 seconds (45.93 M allocations: 712.005 MiB)\n",
      "Set length 256\n",
      "Iterative:  22.504523 seconds (720.15 M allocations: 10.809 GiB, 12.32% gc time)\n",
      "Set length 512\n",
      "Iterative: "
     ]
    },
    {
     "ename": "LoadError",
     "evalue": "InterruptException:",
     "output_type": "error",
     "traceback": [
      "InterruptException:",
      "",
      "Stacktrace:",
      " [1] hash(::Set{Any}, ::UInt64) at ./set.jl:396",
      " [2] hash at ./hashing.jl:18 [inlined]",
      " [3] hashindex(::Set{Any}, ::Int64) at ./dict.jl:168",
      " [4] ht_keyindex2!(::Dict{Set{Any},Nothing}, ::Set{Any}) at ./dict.jl:308",
      " [5] setindex!(::Dict{Set{Any},Nothing}, ::Nothing, ::Set{Any}) at ./dict.jl:381",
      " [6] push! at ./set.jl:57 [inlined]",
      " [7] generatePowerSetsIter(::Set{Int64}) at ./In[186]:6",
      " [8] macro expansion at ./timing.jl:174 [inlined]",
      " [9] top-level scope at ./In[189]:7",
      " [10] include_string(::Function, ::Module, ::String, ::String) at ./loading.jl:1091"
     ]
    }
   ],
   "source": [
    "i = 1\n",
    "while true\n",
    "    i = i * 2\n",
    "    s = Set(1:i)\n",
    "    println(\"Set length \"*string(length(s)))\n",
    "    print(\"Iterative: \")\n",
    "    @time generatePowerSetsIter(s)\n",
    "#     print(\"Recursive: \")\n",
    "#     @time generatePowerSetsRecursive(s)\n",
    "end"
   ]
  },
  {
   "cell_type": "code",
   "execution_count": null,
   "metadata": {},
   "outputs": [],
   "source": []
  }
 ],
 "metadata": {
  "kernelspec": {
   "display_name": "Julia 1.5.3",
   "language": "julia",
   "name": "julia-1.5"
  },
  "language_info": {
   "file_extension": ".jl",
   "mimetype": "application/julia",
   "name": "julia",
   "version": "1.5.3"
  }
 },
 "nbformat": 4,
 "nbformat_minor": 4
}
